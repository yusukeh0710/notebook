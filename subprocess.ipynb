{
  "nbformat": 4,
  "nbformat_minor": 0,
  "metadata": {
    "colab": {
      "name": "subprocess.ipynb",
      "version": "0.3.2",
      "provenance": []
    },
    "kernelspec": {
      "name": "python3",
      "display_name": "Python 3"
    }
  },
  "cells": [
    {
      "cell_type": "code",
      "metadata": {
        "id": "8sk84xxAQiMN",
        "colab_type": "code",
        "colab": {
          "base_uri": "https://localhost:8080/",
          "height": 124
        },
        "outputId": "202ab2b0-645f-44f3-a825-31cdc843214b"
      },
      "source": [
        "import subprocess\n",
        "command = \"ls -al\"\n",
        "!ls -al"
      ],
      "execution_count": 1,
      "outputs": [
        {
          "output_type": "stream",
          "text": [
            "total 16\n",
            "drwxr-xr-x 1 root root 4096 May 18 09:50 .\n",
            "drwxr-xr-x 1 root root 4096 May 18 09:24 ..\n",
            "drwxr-xr-x 1 root root 4096 May 16 16:08 .config\n",
            "drwxr-xr-x 1 root root 4096 May 15 16:23 sample_data\n",
            "-rw-r--r-- 1 root root    0 May 18 09:51 test.py\n"
          ],
          "name": "stdout"
        }
      ]
    },
    {
      "cell_type": "markdown",
      "metadata": {
        "id": "oCVUXQIASBXf",
        "colab_type": "text"
      },
      "source": [
        "### subprocess.call(string)\n",
        "  - Execute command described by input string\n",
        "  - Return executed command's return code (NOT output)"
      ]
    },
    {
      "cell_type": "code",
      "metadata": {
        "id": "8quG8jgBQ5k3",
        "colab_type": "code",
        "colab": {
          "base_uri": "https://localhost:8080/",
          "height": 35
        },
        "outputId": "7a49358b-1fa0-49b7-9cc6-064e74993dac"
      },
      "source": [
        "subprocess.call(command, shell=True)"
      ],
      "execution_count": 2,
      "outputs": [
        {
          "output_type": "execute_result",
          "data": {
            "text/plain": [
              "0"
            ]
          },
          "metadata": {
            "tags": []
          },
          "execution_count": 2
        }
      ]
    },
    {
      "cell_type": "markdown",
      "metadata": {
        "id": "7I_D5z3KVO9E",
        "colab_type": "text"
      },
      "source": [
        "### subprocess.check_output(string)\n",
        "  - Execute command described by input string\n",
        "  - Return output by executed command"
      ]
    },
    {
      "cell_type": "code",
      "metadata": {
        "id": "aAmbOT1JRP6h",
        "colab_type": "code",
        "colab": {
          "base_uri": "https://localhost:8080/",
          "height": 141
        },
        "outputId": "f3a6d04d-aa95-4504-fb4c-9dae14599145"
      },
      "source": [
        "outputs = subprocess.check_output(command, shell=True)\n",
        "for output in outputs.decode('utf-8').split('\\n'):\n",
        "    print(output)"
      ],
      "execution_count": 3,
      "outputs": [
        {
          "output_type": "stream",
          "text": [
            "total 16\n",
            "drwxr-xr-x 1 root root 4096 May 18 09:50 .\n",
            "drwxr-xr-x 1 root root 4096 May 18 09:24 ..\n",
            "drwxr-xr-x 1 root root 4096 May 16 16:08 .config\n",
            "drwxr-xr-x 1 root root 4096 May 15 16:23 sample_data\n",
            "-rw-r--r-- 1 root root    0 May 18 09:51 test.py\n",
            "\n"
          ],
          "name": "stdout"
        }
      ]
    },
    {
      "cell_type": "markdown",
      "metadata": {
        "id": "jRNgzNAlhdks",
        "colab_type": "text"
      },
      "source": [
        "###  subprocess.Popen(string, shell, stdout, stderr)\n",
        "  - Execute command described by input string\n",
        "  - Return process object\n",
        "    - communicate(): wait for finishing process and get stdout/stderr\n",
        "    - wait(): wait for finishing process\n",
        "    - terminate(): terminate the process\n",
        "    - kill(): = terminate()\n",
        "    - poll(): check process status (get return code?)\n",
        "  "
      ]
    },
    {
      "cell_type": "code",
      "metadata": {
        "id": "oqUaa7pmR_Dn",
        "colab_type": "code",
        "colab": {
          "base_uri": "https://localhost:8080/",
          "height": 337
        },
        "outputId": "e1fab134-7451-42cc-a686-913ce84a689b"
      },
      "source": [
        "proc = subprocess.Popen(command, shell=True,\n",
        "                        stdout=subprocess.PIPE, stderr=subprocess.PIPE)\n",
        "stdout, stderr = proc.communicate()\n",
        "retcode = proc.returncode\n",
        "print(\"Return Code: \", retcode)\n",
        "print(\"stdout:\\n\", stdout.decode('utf-8'))\n",
        "print(\"stderr:\\n\", stderr.decode('utf-8'))\n",
        "\n",
        "\n",
        "print (\"-------\")\n",
        "proc = subprocess.Popen(\"aiu\", shell=True,\n",
        "                        stdout=subprocess.PIPE, stderr=subprocess.PIPE)\n",
        "stdout, stderr = proc.communicate()\n",
        "retcode = proc.returncode\n",
        "print(\"Return Code: \", retcode)\n",
        "print(\"stdout:\\n\", stdout.decode('utf-8'))\n",
        "print(\"stderr:\\n\", stderr.decode('utf-8'))"
      ],
      "execution_count": 4,
      "outputs": [
        {
          "output_type": "stream",
          "text": [
            "Return Code:  0\n",
            "stdout:\n",
            " total 16\n",
            "drwxr-xr-x 1 root root 4096 May 18 09:50 .\n",
            "drwxr-xr-x 1 root root 4096 May 18 09:24 ..\n",
            "drwxr-xr-x 1 root root 4096 May 16 16:08 .config\n",
            "drwxr-xr-x 1 root root 4096 May 15 16:23 sample_data\n",
            "-rw-r--r-- 1 root root    0 May 18 09:51 test.py\n",
            "\n",
            "stderr:\n",
            " \n",
            "-------\n",
            "Return Code:  127\n",
            "stdout:\n",
            " \n",
            "stderr:\n",
            " /bin/sh: 1: aiu: not found\n",
            "\n"
          ],
          "name": "stdout"
        }
      ]
    },
    {
      "cell_type": "markdown",
      "metadata": {
        "id": "NrWLdeQNjtxS",
        "colab_type": "text"
      },
      "source": [
        "Background execution"
      ]
    },
    {
      "cell_type": "code",
      "metadata": {
        "id": "KDAaVQBhZoFw",
        "colab_type": "code",
        "colab": {
          "base_uri": "https://localhost:8080/",
          "height": 35
        },
        "outputId": "fe4c3069-717b-4228-e43e-4e1083867bbb"
      },
      "source": [
        "command = \"sleep 30\"\n",
        "proc = subprocess.Popen(command.split(), stdout=subprocess.PIPE, stderr=subprocess.PIPE)\n",
        "proc.pid"
      ],
      "execution_count": 5,
      "outputs": [
        {
          "output_type": "execute_result",
          "data": {
            "text/plain": [
              "1146"
            ]
          },
          "metadata": {
            "tags": []
          },
          "execution_count": 5
        }
      ]
    },
    {
      "cell_type": "code",
      "metadata": {
        "id": "Kfl7pQbRfV9R",
        "colab_type": "code",
        "colab": {
          "base_uri": "https://localhost:8080/",
          "height": 35
        },
        "outputId": "f6d8b776-9817-44f9-c62f-f54bd289b179"
      },
      "source": [
        "print(proc.poll())"
      ],
      "execution_count": 6,
      "outputs": [
        {
          "output_type": "stream",
          "text": [
            "None\n"
          ],
          "name": "stdout"
        }
      ]
    },
    {
      "cell_type": "code",
      "metadata": {
        "id": "UdxHQWpwc-pX",
        "colab_type": "code",
        "colab": {
          "base_uri": "https://localhost:8080/",
          "height": 70
        },
        "outputId": "9a46a5e8-37fe-45a2-b771-d96b200bc7b6"
      },
      "source": [
        "! ps aux | grep sleep"
      ],
      "execution_count": 7,
      "outputs": [
        {
          "output_type": "stream",
          "text": [
            "root        1146  0.0  0.0  35852  4864 ?        S    10:44   0:00 sleep 30\n",
            "root        1147  0.0  0.0  39196  6480 ?        S    10:44   0:00 /bin/bash -c  ps aux | grep sleep\n",
            "root        1149  0.0  0.0  38568  5500 ?        S    10:44   0:00 grep sleep\n"
          ],
          "name": "stdout"
        }
      ]
    },
    {
      "cell_type": "code",
      "metadata": {
        "id": "fKg7BkzidDSj",
        "colab_type": "code",
        "colab": {
          "base_uri": "https://localhost:8080/",
          "height": 35
        },
        "outputId": "568a3557-4292-4ae6-8846-b081c0f7012f"
      },
      "source": [
        "proc.terminate()\n",
        "proc.wait()"
      ],
      "execution_count": 8,
      "outputs": [
        {
          "output_type": "execute_result",
          "data": {
            "text/plain": [
              "-15"
            ]
          },
          "metadata": {
            "tags": []
          },
          "execution_count": 8
        }
      ]
    },
    {
      "cell_type": "code",
      "metadata": {
        "id": "d3gntPSEdUmb",
        "colab_type": "code",
        "colab": {
          "base_uri": "https://localhost:8080/",
          "height": 53
        },
        "outputId": "22301e45-5742-4524-c483-c300e265eec5"
      },
      "source": [
        "! ps aux | grep sleep"
      ],
      "execution_count": 9,
      "outputs": [
        {
          "output_type": "stream",
          "text": [
            "root        1153  0.0  0.0  39192  6528 ?        S    10:44   0:00 /bin/bash -c  ps aux | grep sleep\n",
            "root        1155  0.0  0.0  38568  5548 ?        S    10:44   0:00 grep sleep\n"
          ],
          "name": "stdout"
        }
      ]
    },
    {
      "cell_type": "code",
      "metadata": {
        "id": "FydK0wZzeE7j",
        "colab_type": "code",
        "colab": {
          "base_uri": "https://localhost:8080/",
          "height": 53
        },
        "outputId": "582dc44c-d2e3-4b4a-b33e-ea467d11328f"
      },
      "source": [
        "print(proc.poll())\n",
        "proc.returncode"
      ],
      "execution_count": 10,
      "outputs": [
        {
          "output_type": "stream",
          "text": [
            "-15\n"
          ],
          "name": "stdout"
        },
        {
          "output_type": "execute_result",
          "data": {
            "text/plain": [
              "-15"
            ]
          },
          "metadata": {
            "tags": []
          },
          "execution_count": 10
        }
      ]
    },
    {
      "cell_type": "code",
      "metadata": {
        "id": "O0rHJ1C-isEF",
        "colab_type": "code",
        "colab": {
          "base_uri": "https://localhost:8080/",
          "height": 35
        },
        "outputId": "4663eeba-7fdf-4d88-db8f-b0ed9b15e9c4"
      },
      "source": [
        "proc.communicate()"
      ],
      "execution_count": 11,
      "outputs": [
        {
          "output_type": "execute_result",
          "data": {
            "text/plain": [
              "(b'', b'')"
            ]
          },
          "metadata": {
            "tags": []
          },
          "execution_count": 11
        }
      ]
    },
    {
      "cell_type": "markdown",
      "metadata": {
        "id": "f4kzXZVbhCyn",
        "colab_type": "text"
      },
      "source": [
        "Invalid comamnd case\n",
        "\n",
        "  -> proc.poll() returns immediately return_code meaning execution failure"
      ]
    },
    {
      "cell_type": "code",
      "metadata": {
        "colab_type": "code",
        "outputId": "c35cb1f0-c7e4-433c-abe4-b98b64b8b490",
        "id": "CKUG-jTfg4cZ",
        "colab": {
          "base_uri": "https://localhost:8080/",
          "height": 35
        }
      },
      "source": [
        "command = \"sleep 30 -abcdefghijkl\"\n",
        "proc = subprocess.Popen(command.split(), stdout=subprocess.PIPE, stderr=subprocess.PIPE)\n",
        "proc.pid"
      ],
      "execution_count": 12,
      "outputs": [
        {
          "output_type": "execute_result",
          "data": {
            "text/plain": [
              "1156"
            ]
          },
          "metadata": {
            "tags": []
          },
          "execution_count": 12
        }
      ]
    },
    {
      "cell_type": "code",
      "metadata": {
        "id": "PvKvmL_Gg7dC",
        "colab_type": "code",
        "colab": {
          "base_uri": "https://localhost:8080/",
          "height": 35
        },
        "outputId": "afe62e46-6cb7-4227-de13-3b0a67bd5117"
      },
      "source": [
        "print(proc.poll())"
      ],
      "execution_count": 13,
      "outputs": [
        {
          "output_type": "stream",
          "text": [
            "None\n"
          ],
          "name": "stdout"
        }
      ]
    },
    {
      "cell_type": "code",
      "metadata": {
        "id": "WlgXV-0MiZZB",
        "colab_type": "code",
        "colab": {
          "base_uri": "https://localhost:8080/",
          "height": 53
        },
        "outputId": "00160233-ec2e-4fea-9fb3-0e99922642aa"
      },
      "source": [
        "proc.communicate()"
      ],
      "execution_count": 14,
      "outputs": [
        {
          "output_type": "execute_result",
          "data": {
            "text/plain": [
              "(b'',\n",
              " b\"sleep: invalid option -- 'a'\\nTry 'sleep --help' for more information.\\n\")"
            ]
          },
          "metadata": {
            "tags": []
          },
          "execution_count": 14
        }
      ]
    }
  ]
}