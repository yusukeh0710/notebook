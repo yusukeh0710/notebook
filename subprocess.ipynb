{
  "nbformat": 4,
  "nbformat_minor": 0,
  "metadata": {
    "colab": {
      "name": "subprocess.ipynb",
      "version": "0.3.2",
      "provenance": []
    },
    "kernelspec": {
      "name": "python3",
      "display_name": "Python 3"
    }
  },
  "cells": [
    {
      "cell_type": "code",
      "metadata": {
        "id": "8sk84xxAQiMN",
        "colab_type": "code",
        "colab": {
          "base_uri": "https://localhost:8080/",
          "height": 124
        },
        "outputId": "8f325d39-3f62-41e9-9ac2-81edcfc9faea"
      },
      "source": [
        "import subprocess\n",
        "command = \"ls -al\"\n",
        "!ls -al"
      ],
      "execution_count": 1,
      "outputs": [
        {
          "output_type": "stream",
          "text": [
            "total 16\n",
            "drwxr-xr-x 1 root root 4096 May 18 09:50 .\n",
            "drwxr-xr-x 1 root root 4096 May 18 09:24 ..\n",
            "drwxr-xr-x 1 root root 4096 May 16 16:08 .config\n",
            "drwxr-xr-x 1 root root 4096 May 15 16:23 sample_data\n",
            "-rw-r--r-- 1 root root    0 May 18 09:51 test.py\n"
          ],
          "name": "stdout"
        }
      ]
    },
    {
      "cell_type": "markdown",
      "metadata": {
        "id": "oCVUXQIASBXf",
        "colab_type": "text"
      },
      "source": [
        "### subprocess.call(string)\n",
        "  - Execute command described by input string\n",
        "  - Return executed command's return code (NOT output)"
      ]
    },
    {
      "cell_type": "code",
      "metadata": {
        "id": "8quG8jgBQ5k3",
        "colab_type": "code",
        "colab": {
          "base_uri": "https://localhost:8080/",
          "height": 35
        },
        "outputId": "584e9463-de7f-4b09-dc60-82a97a95fe85"
      },
      "source": [
        "subprocess.call(command, shell=True)"
      ],
      "execution_count": 2,
      "outputs": [
        {
          "output_type": "execute_result",
          "data": {
            "text/plain": [
              "0"
            ]
          },
          "metadata": {
            "tags": []
          },
          "execution_count": 2
        }
      ]
    },
    {
      "cell_type": "markdown",
      "metadata": {
        "id": "7I_D5z3KVO9E",
        "colab_type": "text"
      },
      "source": [
        "### subprocess.check_output(string)\n",
        "  - Execute command described by input string\n",
        "  - Return output by executed command"
      ]
    },
    {
      "cell_type": "code",
      "metadata": {
        "id": "aAmbOT1JRP6h",
        "colab_type": "code",
        "colab": {
          "base_uri": "https://localhost:8080/",
          "height": 141
        },
        "outputId": "ef819410-47da-4d6a-8677-34c0298f4e2e"
      },
      "source": [
        "outputs = subprocess.check_output(command, shell=True)\n",
        "for output in outputs.decode('utf-8').split('\\n'):\n",
        "    print(output)"
      ],
      "execution_count": 3,
      "outputs": [
        {
          "output_type": "stream",
          "text": [
            "total 16\n",
            "drwxr-xr-x 1 root root 4096 May 18 09:50 .\n",
            "drwxr-xr-x 1 root root 4096 May 18 09:24 ..\n",
            "drwxr-xr-x 1 root root 4096 May 16 16:08 .config\n",
            "drwxr-xr-x 1 root root 4096 May 15 16:23 sample_data\n",
            "-rw-r--r-- 1 root root    0 May 18 09:51 test.py\n",
            "\n"
          ],
          "name": "stdout"
        }
      ]
    },
    {
      "cell_type": "markdown",
      "metadata": {
        "id": "jRNgzNAlhdks",
        "colab_type": "text"
      },
      "source": [
        "###  subprocess.Popen(string, shell, stdout, stderr)\n",
        "  - Execute command described by input string\n",
        "  - Return process object\n",
        "    - communicate(): wait for finishing process and get stdout/stderr\n",
        "    - wait(): wait for finishing process\n",
        "    - terminate(): terminate the process\n",
        "    - kill(): = terminate()\n",
        "    - poll(): check process status (get return code?)\n",
        "  "
      ]
    },
    {
      "cell_type": "code",
      "metadata": {
        "id": "oqUaa7pmR_Dn",
        "colab_type": "code",
        "colab": {
          "base_uri": "https://localhost:8080/",
          "height": 337
        },
        "outputId": "66d00470-f6da-4afd-c971-e62e57d705fb"
      },
      "source": [
        "proc = subprocess.Popen(command, shell=True,\n",
        "                        stdout=subprocess.PIPE, stderr=subprocess.PIPE)\n",
        "stdout, stderr = proc.communicate()\n",
        "retcode = proc.returncode\n",
        "print(\"Return Code: \", retcode)\n",
        "print(\"stdout:\\n\", stdout.decode('utf-8'))\n",
        "print(\"stderr:\\n\", stderr.decode('utf-8'))\n",
        "\n",
        "\n",
        "print (\"-------\")\n",
        "proc = subprocess.Popen(\"aiu\", shell=True,\n",
        "                        stdout=subprocess.PIPE, stderr=subprocess.PIPE)\n",
        "stdout, stderr = proc.communicate()\n",
        "retcode = proc.returncode\n",
        "print(\"Return Code: \", retcode)\n",
        "print(\"stdout:\\n\", stdout.decode('utf-8'))\n",
        "print(\"stderr:\\n\", stderr.decode('utf-8'))"
      ],
      "execution_count": 4,
      "outputs": [
        {
          "output_type": "stream",
          "text": [
            "Return Code:  0\n",
            "stdout:\n",
            " total 16\n",
            "drwxr-xr-x 1 root root 4096 May 18 09:50 .\n",
            "drwxr-xr-x 1 root root 4096 May 18 09:24 ..\n",
            "drwxr-xr-x 1 root root 4096 May 16 16:08 .config\n",
            "drwxr-xr-x 1 root root 4096 May 15 16:23 sample_data\n",
            "-rw-r--r-- 1 root root    0 May 18 09:51 test.py\n",
            "\n",
            "stderr:\n",
            " \n",
            "-------\n",
            "Return Code:  127\n",
            "stdout:\n",
            " \n",
            "stderr:\n",
            " /bin/sh: 1: aiu: not found\n",
            "\n"
          ],
          "name": "stdout"
        }
      ]
    },
    {
      "cell_type": "markdown",
      "metadata": {
        "id": "NrWLdeQNjtxS",
        "colab_type": "text"
      },
      "source": [
        "Background execution"
      ]
    },
    {
      "cell_type": "code",
      "metadata": {
        "id": "KDAaVQBhZoFw",
        "colab_type": "code",
        "colab": {
          "base_uri": "https://localhost:8080/",
          "height": 35
        },
        "outputId": "cda08b5c-170d-4eab-feeb-8ea661756f44"
      },
      "source": [
        "command = \"sleep 30\"\n",
        "proc = subprocess.Popen(command.split(), stdout=subprocess.PIPE, stderr=subprocess.PIPE)\n",
        "proc.pid"
      ],
      "execution_count": 5,
      "outputs": [
        {
          "output_type": "execute_result",
          "data": {
            "text/plain": [
              "1292"
            ]
          },
          "metadata": {
            "tags": []
          },
          "execution_count": 5
        }
      ]
    },
    {
      "cell_type": "code",
      "metadata": {
        "id": "Kfl7pQbRfV9R",
        "colab_type": "code",
        "colab": {
          "base_uri": "https://localhost:8080/",
          "height": 35
        },
        "outputId": "733b3692-b70a-4055-85a9-b80651751f95"
      },
      "source": [
        "print(proc.poll())"
      ],
      "execution_count": 6,
      "outputs": [
        {
          "output_type": "stream",
          "text": [
            "None\n"
          ],
          "name": "stdout"
        }
      ]
    },
    {
      "cell_type": "code",
      "metadata": {
        "id": "UdxHQWpwc-pX",
        "colab_type": "code",
        "colab": {
          "base_uri": "https://localhost:8080/",
          "height": 70
        },
        "outputId": "dc55be09-87d7-48ca-94bd-954296afb5a4"
      },
      "source": [
        "! ps aux | grep sleep"
      ],
      "execution_count": 7,
      "outputs": [
        {
          "output_type": "stream",
          "text": [
            "root        1292  0.0  0.0  35852  4696 ?        S    10:51   0:00 sleep 30\n",
            "root        1293  0.0  0.0  39196  6536 ?        S    10:51   0:00 /bin/bash -c  ps aux | grep sleep\n",
            "root        1295  0.0  0.0  38572  5604 ?        S    10:51   0:00 grep sleep\n"
          ],
          "name": "stdout"
        }
      ]
    },
    {
      "cell_type": "code",
      "metadata": {
        "id": "fKg7BkzidDSj",
        "colab_type": "code",
        "colab": {
          "base_uri": "https://localhost:8080/",
          "height": 35
        },
        "outputId": "0c04360e-b9e4-4ea4-d35c-8add3f6fb188"
      },
      "source": [
        "proc.terminate()\n",
        "proc.wait()"
      ],
      "execution_count": 8,
      "outputs": [
        {
          "output_type": "execute_result",
          "data": {
            "text/plain": [
              "-15"
            ]
          },
          "metadata": {
            "tags": []
          },
          "execution_count": 8
        }
      ]
    },
    {
      "cell_type": "code",
      "metadata": {
        "id": "d3gntPSEdUmb",
        "colab_type": "code",
        "colab": {
          "base_uri": "https://localhost:8080/",
          "height": 53
        },
        "outputId": "85543900-3588-46ac-e4c9-d076406425f1"
      },
      "source": [
        "! ps aux | grep sleep"
      ],
      "execution_count": 9,
      "outputs": [
        {
          "output_type": "stream",
          "text": [
            "root        1296  0.0  0.0  39192  6480 ?        S    10:51   0:00 /bin/bash -c  ps aux | grep sleep\n",
            "root        1298  0.0  0.0  38572  5592 ?        S    10:51   0:00 grep sleep\n"
          ],
          "name": "stdout"
        }
      ]
    },
    {
      "cell_type": "code",
      "metadata": {
        "id": "FydK0wZzeE7j",
        "colab_type": "code",
        "colab": {
          "base_uri": "https://localhost:8080/",
          "height": 53
        },
        "outputId": "ca87b6f9-2e2e-4294-ea86-a853a0a6226e"
      },
      "source": [
        "print(proc.poll())\n",
        "proc.returncode"
      ],
      "execution_count": 10,
      "outputs": [
        {
          "output_type": "stream",
          "text": [
            "-15\n"
          ],
          "name": "stdout"
        },
        {
          "output_type": "execute_result",
          "data": {
            "text/plain": [
              "-15"
            ]
          },
          "metadata": {
            "tags": []
          },
          "execution_count": 10
        }
      ]
    },
    {
      "cell_type": "code",
      "metadata": {
        "id": "O0rHJ1C-isEF",
        "colab_type": "code",
        "colab": {
          "base_uri": "https://localhost:8080/",
          "height": 35
        },
        "outputId": "9b2f6cab-ce21-486f-ccf0-4d36e2ad5d2b"
      },
      "source": [
        "proc.communicate()"
      ],
      "execution_count": 11,
      "outputs": [
        {
          "output_type": "execute_result",
          "data": {
            "text/plain": [
              "(b'', b'')"
            ]
          },
          "metadata": {
            "tags": []
          },
          "execution_count": 11
        }
      ]
    },
    {
      "cell_type": "markdown",
      "metadata": {
        "id": "f4kzXZVbhCyn",
        "colab_type": "text"
      },
      "source": [
        "Invalid comamnd case\n",
        "\n",
        "  -> proc.poll() returns immediately return_code meaning execution failure"
      ]
    },
    {
      "cell_type": "code",
      "metadata": {
        "colab_type": "code",
        "outputId": "8f4d5117-84f9-49b6-f882-7e7e6199e90b",
        "id": "CKUG-jTfg4cZ",
        "colab": {
          "base_uri": "https://localhost:8080/",
          "height": 35
        }
      },
      "source": [
        "command = \"sleep 30 -abcdefghijkl\"\n",
        "proc = subprocess.Popen(command.split(), stdout=subprocess.PIPE, stderr=subprocess.PIPE)\n",
        "proc.pid"
      ],
      "execution_count": 12,
      "outputs": [
        {
          "output_type": "execute_result",
          "data": {
            "text/plain": [
              "1302"
            ]
          },
          "metadata": {
            "tags": []
          },
          "execution_count": 12
        }
      ]
    },
    {
      "cell_type": "code",
      "metadata": {
        "id": "PvKvmL_Gg7dC",
        "colab_type": "code",
        "colab": {
          "base_uri": "https://localhost:8080/",
          "height": 35
        },
        "outputId": "fc1c80da-72b3-4d83-9a31-a96861af9a59"
      },
      "source": [
        "print(proc.poll())"
      ],
      "execution_count": 13,
      "outputs": [
        {
          "output_type": "stream",
          "text": [
            "1\n"
          ],
          "name": "stdout"
        }
      ]
    },
    {
      "cell_type": "code",
      "metadata": {
        "id": "WlgXV-0MiZZB",
        "colab_type": "code",
        "colab": {
          "base_uri": "https://localhost:8080/",
          "height": 53
        },
        "outputId": "9f0c2088-dd06-4949-c536-f1aae8f17645"
      },
      "source": [
        "proc.communicate()"
      ],
      "execution_count": 14,
      "outputs": [
        {
          "output_type": "execute_result",
          "data": {
            "text/plain": [
              "(b'',\n",
              " b\"sleep: invalid option -- 'a'\\nTry 'sleep --help' for more information.\\n\")"
            ]
          },
          "metadata": {
            "tags": []
          },
          "execution_count": 14
        }
      ]
    }
  ]
}