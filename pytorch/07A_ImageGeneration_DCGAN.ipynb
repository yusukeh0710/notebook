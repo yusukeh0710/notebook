{
  "nbformat": 4,
  "nbformat_minor": 0,
  "metadata": {
    "colab": {
      "provenance": [],
      "machine_shape": "hm",
      "gpuType": "A100",
      "authorship_tag": "ABX9TyORYAN2CUL1iE3kfe1gXd2k"
    },
    "kernelspec": {
      "name": "python3",
      "display_name": "Python 3"
    },
    "language_info": {
      "name": "python"
    },
    "accelerator": "GPU"
  },
  "cells": [
    {
      "cell_type": "markdown",
      "source": [
        "# DCGAN (Deep Convolutional Generative Adversarial Networks)\n",
        "https://arxiv.org/pdf/1511.06434"
      ],
      "metadata": {
        "id": "Zl17pEMeEK85"
      }
    },
    {
      "cell_type": "code",
      "execution_count": 1,
      "metadata": {
        "colab": {
          "base_uri": "https://localhost:8080/"
        },
        "id": "t3Vr3qvVD1JK",
        "outputId": "77c1c961-8018-4b49-9512-a35a6365dbba"
      },
      "outputs": [
        {
          "output_type": "stream",
          "name": "stdout",
          "text": [
            "Drive already mounted at /content/drive; to attempt to forcibly remount, call drive.mount(\"/content/drive\", force_remount=True).\n"
          ]
        }
      ],
      "source": [
        "from google.colab import drive\n",
        "from pathlib import Path\n",
        "\n",
        "drive.mount('/content/drive')\n",
        "DRIVE_ROOT = Path('/content/drive/MyDrive')\n",
        "\n",
        "DATA_ROOT= Path('./data/')\n",
        "MODEL_ROOT = DRIVE_ROOT / 'weights'\n",
        "\n",
        "!mkdir -p {DATA_ROOT}\n",
        "!mkdir -p {MODEL_ROOT}"
      ]
    },
    {
      "cell_type": "code",
      "source": [
        "%pip install -q matplotlib\n",
        "%pip install -q torchviz torchinfo\n",
        "%pip install -q tqdm"
      ],
      "metadata": {
        "id": "F_T5Eu_GEnrG"
      },
      "execution_count": 2,
      "outputs": []
    },
    {
      "cell_type": "code",
      "source": [
        "from IPython.display import display\n",
        "\n",
        "import math\n",
        "import matplotlib.pyplot as plt\n",
        "import numpy as np\n",
        "import os\n",
        "import pandas as pd\n",
        "from tqdm.notebook import tqdm\n",
        "\n",
        "import torch\n",
        "from torch import nn, optim\n",
        "from torch.nn import functional as F\n",
        "from torch.utils.data import Dataset, DataLoader, Subset\n",
        "from torchinfo import summary\n",
        "from torchvision import datasets, models, ops, transforms\n",
        "\n",
        "%matplotlib inline\n",
        "plt.rcParams['font.size'] = 14\n",
        "plt.rcParams['figure.figsize'] = (3, 3)\n",
        "plt.rcParams['axes.grid'] = True\n",
        "np.set_printoptions(suppress=True, precision=4)\n",
        "\n",
        "def get_device():\n",
        "    '''Get device (CPU or GPU).'''\n",
        "    return torch.device(\"cuda:0\" if torch.cuda.is_available() else \"cpu\")"
      ],
      "metadata": {
        "id": "tMx1ScZ0Euf7"
      },
      "execution_count": 3,
      "outputs": []
    },
    {
      "cell_type": "markdown",
      "source": [
        "## Network Models\n",
        "### Generator\n",
        "Random Noize -- ( Generator ) --> Fake images"
      ],
      "metadata": {
        "id": "VZvxNndEE_k_"
      }
    },
    {
      "cell_type": "code",
      "source": [
        "class Generator(nn.Module):\n",
        "    def __init__(self, z_dim, image_size):\n",
        "        super(Generator, self).__init__()\n",
        "\n",
        "        self.layer1 = nn.Sequential(\n",
        "            nn.ConvTranspose2d(z_dim, image_size * 8, kernel_size=4, stride=1),\n",
        "            nn.BatchNorm2d(image_size * 8),\n",
        "            nn.ReLU(inplace=True)\n",
        "        )\n",
        "\n",
        "        self.layer2 = nn.Sequential(\n",
        "            nn.ConvTranspose2d(image_size * 8, image_size * 4, kernel_size=4, stride=2, padding=1),\n",
        "            nn.BatchNorm2d(image_size * 4),\n",
        "            nn.ReLU(inplace=True)\n",
        "        )\n",
        "\n",
        "        self.layer3 = nn.Sequential(\n",
        "            nn.ConvTranspose2d(image_size * 4, image_size * 2, kernel_size=4, stride=2, padding=1),\n",
        "            nn.BatchNorm2d(image_size * 2),\n",
        "            nn.ReLU(inplace=True)\n",
        "        )\n",
        "\n",
        "        self.layer4 = nn.Sequential(\n",
        "            nn.ConvTranspose2d(image_size * 2, image_size, kernel_size=4, stride=2, padding=1),\n",
        "            nn.BatchNorm2d(image_size),\n",
        "            nn.ReLU(inplace=True)\n",
        "        )\n",
        "\n",
        "        self.last = nn.Sequential(\n",
        "            nn.ConvTranspose2d(image_size, 1, kernel_size=4, stride=2, padding=1),\n",
        "            nn.Tanh()\n",
        "        )\n",
        "\n",
        "    def forward(self, z):\n",
        "        z = z.unsqueeze(-1).unsqueeze(-1)  # Size([N, z_dim, 1, 1])\n",
        "        z = self.layer1(z)\n",
        "        z = self.layer2(z)\n",
        "        z = self.layer3(z)\n",
        "        z = self.layer4(z)\n",
        "        z = self.last(z)                   # Size([N, 1, image_size, image_size])\n",
        "        return z"
      ],
      "metadata": {
        "id": "j2G-Xwa9Ew47"
      },
      "execution_count": 4,
      "outputs": []
    },
    {
      "cell_type": "code",
      "source": [
        "G = Generator(z_dim=20, image_size=4)\n",
        "fake_images = G(torch.randn(1, 20))\n",
        "plt.imshow(fake_images[0][0].detach().numpy(), cmap='gray')\n",
        "plt.axis('off')\n",
        "plt.show()"
      ],
      "metadata": {
        "colab": {
          "base_uri": "https://localhost:8080/",
          "height": 268
        },
        "id": "sjWo6kvuGSdh",
        "outputId": "e054d435-ce44-4d68-a6fe-5c3f10442f55"
      },
      "execution_count": 5,
      "outputs": [
        {
          "output_type": "display_data",
          "data": {
            "text/plain": [
              "<Figure size 300x300 with 1 Axes>"
            ],
            "image/png": "[encoded data removed]"
          },
          "metadata": {}
        }
      ]
    },
    {
      "cell_type": "markdown",
      "source": [
        "### Discriminator\n",
        "Fake images -- ( Discriminator ) --> Score [Fake: 0, Real: 1]"
      ],
      "metadata": {
        "id": "PsIDMdj6HPW8"
      }
    },
    {
      "cell_type": "code",
      "source": [
        "class Discriminator(nn.Module):\n",
        "    def __init__(self, z_dim, image_size):\n",
        "        super(Discriminator, self).__init__()\n",
        "\n",
        "        self.layer1 = nn.Sequential(\n",
        "            nn.Conv2d(1, image_size, kernel_size=4, stride=2, padding=1),\n",
        "            nn.LeakyReLU(0.1, inplace=True)\n",
        "        )\n",
        "\n",
        "        self.layer2 = nn.Sequential(\n",
        "            nn.Conv2d(image_size, image_size*2, kernel_size=4, stride=2, padding=1),\n",
        "            nn.LeakyReLU(0.1, inplace=True)\n",
        "        )\n",
        "\n",
        "        self.layer3 = nn.Sequential(\n",
        "            nn.Conv2d(image_size*2, image_size*4, kernel_size=4, stride=2, padding=1),\n",
        "            nn.LeakyReLU(0.1, inplace=True)\n",
        "        )\n",
        "\n",
        "        self.layer4 = nn.Sequential(\n",
        "            nn.Conv2d(image_size*4, image_size*8, kernel_size=4, stride=2, padding=1),\n",
        "            nn.LeakyReLU(0.1, inplace=True)\n",
        "        )\n",
        "\n",
        "        self.last = nn.Conv2d(image_size*8, 1, kernel_size=4, stride=1)\n",
        "\n",
        "    def forward(self, x):\n",
        "        x = self.layer1(x)\n",
        "        x = self.layer2(x)\n",
        "        x = self.layer3(x)\n",
        "        x = self.layer4(x)\n",
        "        x = self.last(x)\n",
        "        return x"
      ],
      "metadata": {
        "id": "DyCoBckNGVPL"
      },
      "execution_count": 6,
      "outputs": []
    },
    {
      "cell_type": "code",
      "source": [
        "G = Generator(z_dim=20, image_size=4)\n",
        "fake_images = G(torch.randn(1, 20))\n",
        "\n",
        "D = Discriminator(z_dim=20, image_size=4)\n",
        "d_out = D(fake_images)\n",
        "\n",
        "print(nn.Sigmoid()(d_out))  # 0.0: Judged as fake, 0.5: Undecided, 1.0: Judged as real."
      ],
      "metadata": {
        "colab": {
          "base_uri": "https://localhost:8080/"
        },
        "id": "skF6W_CHI6ta",
        "outputId": "41ccb016-a8d3-4a50-afe8-289f0817d302"
      },
      "execution_count": 7,
      "outputs": [
        {
          "output_type": "stream",
          "name": "stdout",
          "text": [
            "tensor([[[[0.5006]]]], grad_fn=<SigmoidBackward0>)\n"
          ]
        }
      ]
    },
    {
      "cell_type": "code",
      "source": [
        "def weights_init(m):\n",
        "    classname = m.__class__.__name__\n",
        "    if classname.find('Conv') != -1:\n",
        "        nn.init.normal_(m.weight.data, 0.0, 0.02)\n",
        "        nn.init.constant_(m.bias.data, 0)\n",
        "    elif classname.find('BatchNorm') != -1:\n",
        "        nn.init.normal_(m.weight.data, 1.0, 0.02)\n",
        "        nn.init.constant_(m.bias.data, 0)\n",
        "\n",
        "\n",
        "def build_GAN(z_dim=20, image_size=64):\n",
        "    G = Generator(z_dim=z_dim, image_size=image_size).apply(weights_init)\n",
        "    D = Discriminator(z_dim=z_dim, image_size=image_size).apply(weights_init)\n",
        "    return G, D\n",
        "\n",
        "G, D = build_GAN(z_dim=20, image_size=64)\n",
        "summary(G, [1, 20]), summary(D, [1, 1, 64, 64])"
      ],
      "metadata": {
        "colab": {
          "base_uri": "https://localhost:8080/"
        },
        "id": "MjJtFxsOM_5J",
        "outputId": "722eddda-f1ce-4968-e214-2528e8d85138"
      },
      "execution_count": 8,
      "outputs": [
        {
          "output_type": "execute_result",
          "data": {
            "text/plain": [
              "(==========================================================================================\n",
              " Layer (type:depth-idx)                   Output Shape              Param #\n",
              " ==========================================================================================\n",
              " Generator                                [1, 1, 64, 64]            --\n",
              " ├─Sequential: 1-1                        [1, 512, 4, 4]            --\n",
              " │    └─ConvTranspose2d: 2-1              [1, 512, 4, 4]            164,352\n",
              " │    └─BatchNorm2d: 2-2                  [1, 512, 4, 4]            1,024\n",
              " │    └─ReLU: 2-3                         [1, 512, 4, 4]            --\n",
              " ├─Sequential: 1-2                        [1, 256, 8, 8]            --\n",
              " │    └─ConvTranspose2d: 2-4              [1, 256, 8, 8]            2,097,408\n",
              " │    └─BatchNorm2d: 2-5                  [1, 256, 8, 8]            512\n",
              " │    └─ReLU: 2-6                         [1, 256, 8, 8]            --\n",
              " ├─Sequential: 1-3                        [1, 128, 16, 16]          --\n",
              " │    └─ConvTranspose2d: 2-7              [1, 128, 16, 16]          524,416\n",
              " │    └─BatchNorm2d: 2-8                  [1, 128, 16, 16]          256\n",
              " │    └─ReLU: 2-9                         [1, 128, 16, 16]          --\n",
              " ├─Sequential: 1-4                        [1, 64, 32, 32]           --\n",
              " │    └─ConvTranspose2d: 2-10             [1, 64, 32, 32]           131,136\n",
              " │    └─BatchNorm2d: 2-11                 [1, 64, 32, 32]           128\n",
              " │    └─ReLU: 2-12                        [1, 64, 32, 32]           --\n",
              " ├─Sequential: 1-5                        [1, 1, 64, 64]            --\n",
              " │    └─ConvTranspose2d: 2-13             [1, 1, 64, 64]            1,025\n",
              " │    └─Tanh: 2-14                        [1, 1, 64, 64]            --\n",
              " ==========================================================================================\n",
              " Total params: 2,920,257\n",
              " Trainable params: 2,920,257\n",
              " Non-trainable params: 0\n",
              " Total mult-adds (Units.MEGABYTES): 409.60\n",
              " ==========================================================================================\n",
              " Input size (MB): 0.00\n",
              " Forward/backward pass size (MB): 2.00\n",
              " Params size (MB): 11.68\n",
              " Estimated Total Size (MB): 13.68\n",
              " ==========================================================================================,\n",
              " ==========================================================================================\n",
              " Layer (type:depth-idx)                   Output Shape              Param #\n",
              " ==========================================================================================\n",
              " Discriminator                            [1, 1, 1, 1]              --\n",
              " ├─Sequential: 1-1                        [1, 64, 32, 32]           --\n",
              " │    └─Conv2d: 2-1                       [1, 64, 32, 32]           1,088\n",
              " │    └─LeakyReLU: 2-2                    [1, 64, 32, 32]           --\n",
              " ├─Sequential: 1-2                        [1, 128, 16, 16]          --\n",
              " │    └─Conv2d: 2-3                       [1, 128, 16, 16]          131,200\n",
              " │    └─LeakyReLU: 2-4                    [1, 128, 16, 16]          --\n",
              " ├─Sequential: 1-3                        [1, 256, 8, 8]            --\n",
              " │    └─Conv2d: 2-5                       [1, 256, 8, 8]            524,544\n",
              " │    └─LeakyReLU: 2-6                    [1, 256, 8, 8]            --\n",
              " ├─Sequential: 1-4                        [1, 512, 4, 4]            --\n",
              " │    └─Conv2d: 2-7                       [1, 512, 4, 4]            2,097,664\n",
              " │    └─LeakyReLU: 2-8                    [1, 512, 4, 4]            --\n",
              " ├─Conv2d: 1-5                            [1, 1, 1, 1]              8,193\n",
              " ==========================================================================================\n",
              " Total params: 2,762,689\n",
              " Trainable params: 2,762,689\n",
              " Non-trainable params: 0\n",
              " Total mult-adds (Units.MEGABYTES): 101.84\n",
              " ==========================================================================================\n",
              " Input size (MB): 0.02\n",
              " Forward/backward pass size (MB): 0.98\n",
              " Params size (MB): 11.05\n",
              " Estimated Total Size (MB): 12.05\n",
              " ==========================================================================================)"
            ]
          },
          "metadata": {},
          "execution_count": 8
        }
      ]
    },
    {
      "cell_type": "markdown",
      "source": [
        "## Loss Function\n",
        "\n",
        "Binary Cross Entropy is used as the loss function:\n",
        "\n",
        "$$\n",
        "L(y, \\hat{y}) = - \\left[ y \\cdot \\log(\\hat{y}) + (1 - y) \\cdot \\log(1 - \\hat{y}) \\right]\n",
        "$$\n",
        "\n",
        "<br>\n",
        "\n",
        "Given that real images are labeled as $y = 1$ and fake images as $y = 0$, the loss is\n",
        "\n",
        "$$\n",
        "L(y, D(x)) =\n",
        "\\begin{cases}\n",
        "  -\\log(D(x))     & \\text{if } y = 1 \\quad (\\text{real image}) \\\\\n",
        "  -\\log(1 - D(x)) & \\text{if } y = 0 \\quad (\\text{fake image})\n",
        "\\end{cases}\n",
        "$$\n",
        "<br>\n",
        "\n",
        "Early in training, the discriminator can easily see through fake images, which results in a very small loss ($-\\log(1 - D(G(z))) \\approx -\\log(1) = 0$) and slows down the learning for the generator.<br>\n",
        "To address this, the following loss is used instead, which provides stronger gradients when the discriminator confidently classifies fake images as fake.\n",
        "\n",
        "$$\n",
        "L = -\\log(D(G(z)))\n",
        "$$"
      ],
      "metadata": {
        "id": "DCPqLVQdJuCo"
      }
    },
    {
      "cell_type": "markdown",
      "source": [
        "## Dataset, Dataloader, Transformer"
      ],
      "metadata": {
        "id": "0BJDQdq0JPLA"
      }
    },
    {
      "cell_type": "code",
      "source": [
        "class ImageTransform():\n",
        "    def __init__(self, mean, std):\n",
        "        self.transform = transforms.Compose([\n",
        "            transforms.Resize(64),\n",
        "            transforms.ToTensor(),\n",
        "            transforms.Normalize(mean, std)\n",
        "        ])\n",
        "\n",
        "    def __call__(self, image):\n",
        "        return self.transform(image)"
      ],
      "metadata": {
        "id": "cXRAJKrBL_tD"
      },
      "execution_count": 9,
      "outputs": []
    },
    {
      "cell_type": "code",
      "source": [
        "class TinyMnistDataset(Dataset):\n",
        "    def __init__(self, root, train, keys, transform=None, download=True):\n",
        "        self.dataset = datasets.MNIST(root=root, train=train, download=download)\n",
        "        self.transform = transform\n",
        "\n",
        "        self.indices = []\n",
        "        for key in keys:\n",
        "            key_indices = np.where(np.array(self.dataset.targets) == key)[0]\n",
        "            self.indices += list(key_indices[:200])\n",
        "\n",
        "    def __len__(self):\n",
        "        return len(self.indices)\n",
        "\n",
        "    def __getitem__(self, idx):\n",
        "        image, _ = self.dataset[self.indices[idx]]\n",
        "        if self.transform:\n",
        "            image = self.transform(image)\n",
        "        return image"
      ],
      "metadata": {
        "id": "c9tjLifBJNt4"
      },
      "execution_count": 10,
      "outputs": []
    },
    {
      "cell_type": "code",
      "source": [
        "MEAN = (0.5,)\n",
        "STD = (0.5,)\n",
        "batch_size = 64\n",
        "\n",
        "train_dataset = TinyMnistDataset(\n",
        "    root=DATA_ROOT, train=True, keys=[7, 8], transform=ImageTransform(MEAN, STD))\n",
        "\n",
        "train_dataloader = torch.utils.data.DataLoader(\n",
        "    train_dataset, batch_size=batch_size, shuffle=True)"
      ],
      "metadata": {
        "colab": {
          "base_uri": "https://localhost:8080/"
        },
        "id": "KgYH-EVHLUAm",
        "outputId": "9c0ec7c7-18a5-4f94-88ff-1ad7450afd39"
      },
      "execution_count": 11,
      "outputs": [
        {
          "output_type": "stream",
          "name": "stderr",
          "text": [
            "100%|██████████| 9.91M/9.91M [00:00<00:00, 41.8MB/s]\n",
            "100%|██████████| 28.9k/28.9k [00:00<00:00, 1.20MB/s]\n",
            "100%|██████████| 1.65M/1.65M [00:00<00:00, 10.3MB/s]\n",
            "100%|██████████| 4.54k/4.54k [00:00<00:00, 7.99MB/s]\n"
          ]
        }
      ]
    },
    {
      "cell_type": "markdown",
      "source": [
        "## Train, Run inference\n"
      ],
      "metadata": {
        "id": "Ni5wbZV4MawF"
      }
    },
    {
      "cell_type": "code",
      "source": [
        "def train(G, D,criterion, g_optimizer, d_optimizer, data_loader, device):\n",
        "    G.train()\n",
        "    D.train()\n",
        "\n",
        "    total_g_loss = 0\n",
        "    total_d_loss = 0\n",
        "    for images in data_loader:\n",
        "        images = images.to(device)\n",
        "        batch_size = images.shape[0]\n",
        "\n",
        "        # -----------------------\n",
        "        # 1. Train Discriminator\n",
        "        # -----------------------\n",
        "        # Generate realness scores from real images.\n",
        "        d_out_real = D(images)\n",
        "\n",
        "        # Generate realness scores from fake images.\n",
        "        input_z = torch.randn(batch_size, z_dim).to(device)\n",
        "        fake_images = G(input_z)\n",
        "        d_out_fake = D(fake_images)\n",
        "\n",
        "        # Prepare labels.\n",
        "        label_real = torch.full((batch_size,), 1, dtype=torch.float).to(device)\n",
        "        label_fake = torch.full((batch_size,), 0, dtype=torch.float).to(device)\n",
        "\n",
        "        # Calculate the loss.\n",
        "        d_loss_real = criterion(d_out_real.view(-1), label_real)\n",
        "        d_loss_fake = criterion(d_out_fake.view(-1), label_fake)\n",
        "        d_loss = d_loss_real + d_loss_fake\n",
        "\n",
        "        # Backpropagate the loss and update the discriminator.\n",
        "        d_optimizer.zero_grad()\n",
        "        d_loss.backward()\n",
        "        d_optimizer.step()\n",
        "\n",
        "        # -----------------------\n",
        "        # 2. Train Generator\n",
        "        # -----------------------\n",
        "        # Generate fake images from random noise.\n",
        "        input_z = torch.randn(batch_size, z_dim).to(device)\n",
        "        fake_images = G(input_z)\n",
        "        d_out_fake = D(fake_images)\n",
        "\n",
        "        # Calculate the loss (This provides high loss when the discriminator see through fake images.)\n",
        "        g_loss = criterion(d_out_fake.view(-1), label_real)\n",
        "\n",
        "        # Backpropagate the loss and update the discriminator.\n",
        "        g_optimizer.zero_grad()\n",
        "        g_loss.backward()\n",
        "        g_optimizer.step()\n",
        "\n",
        "        total_g_loss += g_loss.item()\n",
        "        total_d_loss += d_loss.item()\n",
        "\n",
        "    return total_g_loss / len(data_loader), total_d_loss / len(data_loader)\n",
        "\n",
        "\n",
        "def train_GAN(G, D, criterion, g_optimizer, d_optimizer, data_loader, num_epochs):\n",
        "    device = get_device()\n",
        "    torch.backends.cudnn.benchmark = True\n",
        "\n",
        "    G.to(device)\n",
        "    D.to(device)\n",
        "    for epoch in range(num_epochs):\n",
        "        g_loss, d_loss = train(G, D, criterion, g_optimizer, d_optimizer, data_loader, device)\n",
        "        print(f'Epoch [{epoch+1}/{num_epochs}], g_loss: {g_loss:.4f}, d_loss: {d_loss:.4f}')"
      ],
      "metadata": {
        "id": "LsT9LYueLzc7"
      },
      "execution_count": 12,
      "outputs": []
    },
    {
      "cell_type": "code",
      "source": [
        "num_epochs = 200\n",
        "z_dim = 20\n",
        "image_size = 64\n",
        "g_lr, d_lr = 0.0001, 0.0004\n",
        "beta1, beta2 = 0.0, 0.9\n",
        "\n",
        "G, D = build_GAN(z_dim=z_dim, image_size=image_size)\n",
        "\n",
        "criterion = nn.BCEWithLogitsLoss(reduction='mean')\n",
        "g_optimizer = torch.optim.Adam(G.parameters(), g_lr, [beta1, beta2])\n",
        "d_optimizer = torch.optim.Adam(D.parameters(), d_lr, [beta1, beta2])\n",
        "\n",
        "train_GAN(G, D, criterion, g_optimizer, d_optimizer, train_dataloader, num_epochs)"
      ],
      "metadata": {
        "colab": {
          "base_uri": "https://localhost:8080/"
        },
        "id": "LqcptEf6RrHE",
        "outputId": "de06a205-d973-4a7f-e61d-bfb778657ef9"
      },
      "execution_count": 13,
      "outputs": [
        {
          "output_type": "stream",
          "name": "stdout",
          "text": [
            "Epoch [1/200], g_loss: 1.0562, d_loss: 1.3426\n",
            "Epoch [2/200], g_loss: 1.3354, d_loss: 0.5219\n",
            "Epoch [3/200], g_loss: 2.4957, d_loss: 0.6762\n",
            "Epoch [4/200], g_loss: 3.7613, d_loss: 0.0489\n",
            "Epoch [5/200], g_loss: 4.2365, d_loss: 0.0577\n",
            "Epoch [6/200], g_loss: 1.8580, d_loss: 1.5687\n",
            "Epoch [7/200], g_loss: 2.8401, d_loss: 0.7682\n",
            "Epoch [8/200], g_loss: 3.3028, d_loss: 0.2492\n",
            "Epoch [9/200], g_loss: 6.0695, d_loss: 0.0336\n",
            "Epoch [10/200], g_loss: 1.6128, d_loss: 1.3257\n",
            "Epoch [11/200], g_loss: 3.7353, d_loss: 0.1162\n",
            "Epoch [12/200], g_loss: 4.7023, d_loss: 0.0680\n",
            "Epoch [13/200], g_loss: 4.6806, d_loss: 1.4008\n",
            "Epoch [14/200], g_loss: 5.9895, d_loss: 0.9114\n",
            "Epoch [15/200], g_loss: 3.8714, d_loss: 0.1240\n",
            "Epoch [16/200], g_loss: 4.4368, d_loss: 0.1291\n",
            "Epoch [17/200], g_loss: 3.6224, d_loss: 1.1762\n",
            "Epoch [18/200], g_loss: 3.1861, d_loss: 0.2088\n",
            "Epoch [19/200], g_loss: 3.6302, d_loss: 1.4147\n",
            "Epoch [20/200], g_loss: 3.3560, d_loss: 0.8013\n",
            "Epoch [21/200], g_loss: 2.9714, d_loss: 0.5368\n",
            "Epoch [22/200], g_loss: 3.7109, d_loss: 0.1351\n",
            "Epoch [23/200], g_loss: 3.4573, d_loss: 0.8825\n",
            "Epoch [24/200], g_loss: 3.1929, d_loss: 0.5381\n",
            "Epoch [25/200], g_loss: 3.2768, d_loss: 0.7472\n",
            "Epoch [26/200], g_loss: 3.1869, d_loss: 1.0014\n",
            "Epoch [27/200], g_loss: 2.0278, d_loss: 1.2080\n",
            "Epoch [28/200], g_loss: 1.9812, d_loss: 0.8162\n",
            "Epoch [29/200], g_loss: 2.0103, d_loss: 0.8105\n",
            "Epoch [30/200], g_loss: 2.6803, d_loss: 0.7116\n",
            "Epoch [31/200], g_loss: 1.9011, d_loss: 1.0141\n",
            "Epoch [32/200], g_loss: 1.6952, d_loss: 1.2282\n",
            "Epoch [33/200], g_loss: 2.1227, d_loss: 1.0900\n",
            "Epoch [34/200], g_loss: 1.5900, d_loss: 0.9369\n",
            "Epoch [35/200], g_loss: 1.3847, d_loss: 1.0325\n",
            "Epoch [36/200], g_loss: 1.5440, d_loss: 0.9883\n",
            "Epoch [37/200], g_loss: 1.8304, d_loss: 0.8671\n",
            "Epoch [38/200], g_loss: 1.9994, d_loss: 0.9822\n",
            "Epoch [39/200], g_loss: 1.7953, d_loss: 0.8230\n",
            "Epoch [40/200], g_loss: 1.7595, d_loss: 0.9629\n",
            "Epoch [41/200], g_loss: 1.8793, d_loss: 0.9368\n",
            "Epoch [42/200], g_loss: 1.5471, d_loss: 0.8470\n",
            "Epoch [43/200], g_loss: 1.7059, d_loss: 1.1757\n",
            "Epoch [44/200], g_loss: 1.6976, d_loss: 0.8898\n",
            "Epoch [45/200], g_loss: 1.6635, d_loss: 1.0353\n",
            "Epoch [46/200], g_loss: 1.5945, d_loss: 0.9990\n",
            "Epoch [47/200], g_loss: 1.4974, d_loss: 1.0260\n",
            "Epoch [48/200], g_loss: 1.5144, d_loss: 0.9956\n",
            "Epoch [49/200], g_loss: 1.2782, d_loss: 1.0190\n",
            "Epoch [50/200], g_loss: 1.4394, d_loss: 1.0055\n",
            "Epoch [51/200], g_loss: 1.2137, d_loss: 1.1313\n",
            "Epoch [52/200], g_loss: 1.2187, d_loss: 1.1371\n",
            "Epoch [53/200], g_loss: 1.4074, d_loss: 1.0457\n",
            "Epoch [54/200], g_loss: 1.2781, d_loss: 1.0999\n",
            "Epoch [55/200], g_loss: 1.2356, d_loss: 1.0520\n",
            "Epoch [56/200], g_loss: 1.6968, d_loss: 1.1871\n",
            "Epoch [57/200], g_loss: 1.1314, d_loss: 0.9556\n",
            "Epoch [58/200], g_loss: 1.5225, d_loss: 0.8121\n",
            "Epoch [59/200], g_loss: 1.5591, d_loss: 1.1689\n",
            "Epoch [60/200], g_loss: 1.4424, d_loss: 0.8615\n",
            "Epoch [61/200], g_loss: 1.6194, d_loss: 0.8310\n",
            "Epoch [62/200], g_loss: 1.5443, d_loss: 0.8532\n",
            "Epoch [63/200], g_loss: 1.5544, d_loss: 0.9002\n",
            "Epoch [64/200], g_loss: 1.7642, d_loss: 0.9119\n",
            "Epoch [65/200], g_loss: 1.5426, d_loss: 0.8237\n",
            "Epoch [66/200], g_loss: 1.5307, d_loss: 0.8486\n",
            "Epoch [67/200], g_loss: 2.0386, d_loss: 0.8863\n",
            "Epoch [68/200], g_loss: 1.6782, d_loss: 0.7959\n",
            "Epoch [69/200], g_loss: 1.5936, d_loss: 0.7908\n",
            "Epoch [70/200], g_loss: 1.7492, d_loss: 0.8856\n",
            "Epoch [71/200], g_loss: 1.9499, d_loss: 0.8365\n",
            "Epoch [72/200], g_loss: 1.5072, d_loss: 0.8219\n",
            "Epoch [73/200], g_loss: 1.9102, d_loss: 0.8374\n",
            "Epoch [74/200], g_loss: 1.6786, d_loss: 0.9559\n",
            "Epoch [75/200], g_loss: 1.6414, d_loss: 0.7702\n",
            "Epoch [76/200], g_loss: 1.7633, d_loss: 0.8029\n",
            "Epoch [77/200], g_loss: 1.8952, d_loss: 0.7806\n",
            "Epoch [78/200], g_loss: 2.0041, d_loss: 0.8161\n",
            "Epoch [79/200], g_loss: 1.6204, d_loss: 0.8329\n",
            "Epoch [80/200], g_loss: 1.6847, d_loss: 0.8625\n",
            "Epoch [81/200], g_loss: 1.7558, d_loss: 0.7285\n",
            "Epoch [82/200], g_loss: 1.8017, d_loss: 0.8551\n",
            "Epoch [83/200], g_loss: 1.7764, d_loss: 0.8488\n",
            "Epoch [84/200], g_loss: 1.8721, d_loss: 0.7252\n",
            "Epoch [85/200], g_loss: 1.8827, d_loss: 0.8807\n",
            "Epoch [86/200], g_loss: 1.7477, d_loss: 0.7417\n",
            "Epoch [87/200], g_loss: 2.1618, d_loss: 0.7628\n",
            "Epoch [88/200], g_loss: 1.7674, d_loss: 0.7686\n",
            "Epoch [89/200], g_loss: 2.0263, d_loss: 0.8813\n",
            "Epoch [90/200], g_loss: 1.7128, d_loss: 0.7317\n",
            "Epoch [91/200], g_loss: 2.0736, d_loss: 0.6738\n",
            "Epoch [92/200], g_loss: 1.7344, d_loss: 0.8394\n",
            "Epoch [93/200], g_loss: 2.0627, d_loss: 0.7206\n",
            "Epoch [94/200], g_loss: 1.8555, d_loss: 0.7186\n",
            "Epoch [95/200], g_loss: 2.0628, d_loss: 0.7130\n",
            "Epoch [96/200], g_loss: 1.9728, d_loss: 0.7143\n",
            "Epoch [97/200], g_loss: 2.1360, d_loss: 0.7695\n",
            "Epoch [98/200], g_loss: 1.7699, d_loss: 0.7852\n",
            "Epoch [99/200], g_loss: 2.1642, d_loss: 0.6262\n",
            "Epoch [100/200], g_loss: 1.9138, d_loss: 0.6910\n",
            "Epoch [101/200], g_loss: 2.5831, d_loss: 0.5114\n",
            "Epoch [102/200], g_loss: 2.0344, d_loss: 0.8675\n",
            "Epoch [103/200], g_loss: 2.0201, d_loss: 0.5969\n",
            "Epoch [104/200], g_loss: 2.1569, d_loss: 0.7640\n",
            "Epoch [105/200], g_loss: 2.0947, d_loss: 0.6451\n",
            "Epoch [106/200], g_loss: 2.4653, d_loss: 0.7237\n",
            "Epoch [107/200], g_loss: 2.0505, d_loss: 0.6591\n",
            "Epoch [108/200], g_loss: 2.5509, d_loss: 0.6536\n",
            "Epoch [109/200], g_loss: 2.7202, d_loss: 0.6223\n",
            "Epoch [110/200], g_loss: 1.6240, d_loss: 0.8676\n",
            "Epoch [111/200], g_loss: 2.5766, d_loss: 0.4479\n",
            "Epoch [112/200], g_loss: 2.3025, d_loss: 0.7467\n",
            "Epoch [113/200], g_loss: 2.6042, d_loss: 0.6516\n",
            "Epoch [114/200], g_loss: 1.9623, d_loss: 0.6380\n",
            "Epoch [115/200], g_loss: 2.3425, d_loss: 0.7565\n",
            "Epoch [116/200], g_loss: 2.7680, d_loss: 0.4047\n",
            "Epoch [117/200], g_loss: 2.1603, d_loss: 0.8415\n",
            "Epoch [118/200], g_loss: 2.1740, d_loss: 0.5346\n",
            "Epoch [119/200], g_loss: 2.5707, d_loss: 0.7681\n",
            "Epoch [120/200], g_loss: 2.4847, d_loss: 0.5686\n",
            "Epoch [121/200], g_loss: 2.7356, d_loss: 0.6164\n",
            "Epoch [122/200], g_loss: 2.3256, d_loss: 0.5671\n",
            "Epoch [123/200], g_loss: 2.4466, d_loss: 0.7119\n",
            "Epoch [124/200], g_loss: 2.4502, d_loss: 0.6040\n",
            "Epoch [125/200], g_loss: 2.5185, d_loss: 0.6018\n",
            "Epoch [126/200], g_loss: 2.4774, d_loss: 0.5926\n",
            "Epoch [127/200], g_loss: 2.3955, d_loss: 0.6197\n",
            "Epoch [128/200], g_loss: 2.5535, d_loss: 0.5130\n",
            "Epoch [129/200], g_loss: 2.7078, d_loss: 0.5654\n",
            "Epoch [130/200], g_loss: 2.2818, d_loss: 0.7741\n",
            "Epoch [131/200], g_loss: 2.6281, d_loss: 0.5922\n",
            "Epoch [132/200], g_loss: 2.4582, d_loss: 0.5750\n",
            "Epoch [133/200], g_loss: 2.4619, d_loss: 0.6409\n",
            "Epoch [134/200], g_loss: 2.6804, d_loss: 0.5204\n",
            "Epoch [135/200], g_loss: 2.9802, d_loss: 0.5826\n",
            "Epoch [136/200], g_loss: 2.4614, d_loss: 0.6782\n",
            "Epoch [137/200], g_loss: 2.6626, d_loss: 0.5612\n",
            "Epoch [138/200], g_loss: 2.3160, d_loss: 0.5451\n",
            "Epoch [139/200], g_loss: 2.8920, d_loss: 0.6087\n",
            "Epoch [140/200], g_loss: 2.4106, d_loss: 0.6415\n",
            "Epoch [141/200], g_loss: 3.0751, d_loss: 0.4361\n",
            "Epoch [142/200], g_loss: 2.3312, d_loss: 0.6369\n",
            "Epoch [143/200], g_loss: 3.2206, d_loss: 0.4721\n",
            "Epoch [144/200], g_loss: 2.3899, d_loss: 0.6446\n",
            "Epoch [145/200], g_loss: 2.4752, d_loss: 0.5941\n",
            "Epoch [146/200], g_loss: 3.1289, d_loss: 0.4639\n",
            "Epoch [147/200], g_loss: 2.1443, d_loss: 0.6361\n",
            "Epoch [148/200], g_loss: 2.9608, d_loss: 0.5621\n",
            "Epoch [149/200], g_loss: 2.5507, d_loss: 0.4743\n",
            "Epoch [150/200], g_loss: 3.1325, d_loss: 0.5324\n",
            "Epoch [151/200], g_loss: 2.8249, d_loss: 0.5218\n",
            "Epoch [152/200], g_loss: 2.9330, d_loss: 0.6145\n",
            "Epoch [153/200], g_loss: 3.0581, d_loss: 0.4424\n",
            "Epoch [154/200], g_loss: 2.5185, d_loss: 0.5731\n",
            "Epoch [155/200], g_loss: 3.1485, d_loss: 0.5762\n",
            "Epoch [156/200], g_loss: 2.6855, d_loss: 0.4815\n",
            "Epoch [157/200], g_loss: 3.0967, d_loss: 0.5423\n",
            "Epoch [158/200], g_loss: 2.9944, d_loss: 0.4389\n",
            "Epoch [159/200], g_loss: 2.7247, d_loss: 0.5844\n",
            "Epoch [160/200], g_loss: 2.9174, d_loss: 0.6184\n",
            "Epoch [161/200], g_loss: 3.1498, d_loss: 0.4114\n",
            "Epoch [162/200], g_loss: 2.9663, d_loss: 0.3658\n",
            "Epoch [163/200], g_loss: 3.1289, d_loss: 0.5922\n",
            "Epoch [164/200], g_loss: 2.9676, d_loss: 0.4463\n",
            "Epoch [165/200], g_loss: 3.1922, d_loss: 0.5487\n",
            "Epoch [166/200], g_loss: 3.1497, d_loss: 0.2933\n",
            "Epoch [167/200], g_loss: 3.0495, d_loss: 0.5491\n",
            "Epoch [168/200], g_loss: 2.9823, d_loss: 0.4943\n",
            "Epoch [169/200], g_loss: 3.1306, d_loss: 0.4504\n",
            "Epoch [170/200], g_loss: 3.1125, d_loss: 0.4311\n",
            "Epoch [171/200], g_loss: 3.1425, d_loss: 0.4780\n",
            "Epoch [172/200], g_loss: 3.2811, d_loss: 0.4071\n",
            "Epoch [173/200], g_loss: 3.5646, d_loss: 0.3853\n",
            "Epoch [174/200], g_loss: 3.2179, d_loss: 0.6978\n",
            "Epoch [175/200], g_loss: 2.5926, d_loss: 0.3940\n",
            "Epoch [176/200], g_loss: 3.4164, d_loss: 0.2833\n",
            "Epoch [177/200], g_loss: 3.1658, d_loss: 0.5493\n",
            "Epoch [178/200], g_loss: 3.3175, d_loss: 0.3926\n",
            "Epoch [179/200], g_loss: 3.9537, d_loss: 0.2804\n",
            "Epoch [180/200], g_loss: 2.3610, d_loss: 0.6508\n",
            "Epoch [181/200], g_loss: 4.0142, d_loss: 0.3205\n",
            "Epoch [182/200], g_loss: 2.6648, d_loss: 0.5697\n",
            "Epoch [183/200], g_loss: 3.5276, d_loss: 0.4206\n",
            "Epoch [184/200], g_loss: 2.8962, d_loss: 0.4228\n",
            "Epoch [185/200], g_loss: 3.7898, d_loss: 0.3660\n",
            "Epoch [186/200], g_loss: 3.0403, d_loss: 0.4700\n",
            "Epoch [187/200], g_loss: 3.6103, d_loss: 0.4287\n",
            "Epoch [188/200], g_loss: 3.8647, d_loss: 0.2466\n",
            "Epoch [189/200], g_loss: 3.5199, d_loss: 0.5100\n",
            "Epoch [190/200], g_loss: 3.4245, d_loss: 0.3476\n",
            "Epoch [191/200], g_loss: 4.0629, d_loss: 0.2014\n",
            "Epoch [192/200], g_loss: 3.7634, d_loss: 0.5809\n",
            "Epoch [193/200], g_loss: 3.5270, d_loss: 0.3327\n",
            "Epoch [194/200], g_loss: 3.8886, d_loss: 0.3319\n",
            "Epoch [195/200], g_loss: 3.8898, d_loss: 0.5593\n",
            "Epoch [196/200], g_loss: 3.1589, d_loss: 0.3425\n",
            "Epoch [197/200], g_loss: 3.8365, d_loss: 0.4899\n",
            "Epoch [198/200], g_loss: 4.0103, d_loss: 0.2435\n",
            "Epoch [199/200], g_loss: 3.5607, d_loss: 0.2899\n",
            "Epoch [200/200], g_loss: 3.8401, d_loss: 0.4558\n"
          ]
        }
      ]
    },
    {
      "cell_type": "code",
      "source": [
        "device = get_device()\n",
        "\n",
        "batch_size = 8\n",
        "z_dim = 20\n",
        "input_z = torch.randn(batch_size, z_dim)\n",
        "\n",
        "G.eval()\n",
        "fake_images = G(input_z.to(device))\n",
        "\n",
        "fig = plt.figure(figsize=(15, 6))\n",
        "for i in range(batch_size):\n",
        "    plt.subplot(1, batch_size, i+1)\n",
        "    plt.imshow(fake_images[i][0].cpu().detach().numpy(), 'gray')\n",
        "    plt.axis('off')\n",
        "\n",
        "plt.show()"
      ],
      "metadata": {
        "colab": {
          "base_uri": "https://localhost:8080/",
          "height": 157
        },
        "id": "gNXi-Nv3Urzf",
        "outputId": "63261d97-d506-4958-8dc7-38c92be0ad85"
      },
      "execution_count": 18,
      "outputs": [
        {
          "output_type": "display_data",
          "data": {
            "text/plain": [
              "<Figure size 1500x600 with 8 Axes>"
            ],
            "image/png": "[encoded data removed]"
          },
          "metadata": {}
        }
      ]
    }
  ]
}