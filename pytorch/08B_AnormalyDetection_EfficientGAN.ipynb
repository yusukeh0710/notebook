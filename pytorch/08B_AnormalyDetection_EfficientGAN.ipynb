{
  "cells": [
    {
      "cell_type": "markdown",
      "metadata": {
        "id": "At51SV5eZQgt"
      },
      "source": [
        "# Efficient GAN-Based Anomaly Detection\n",
        "https://arxiv.org/pdf/1802.06222"
      ]
    },
    {
      "cell_type": "code",
      "execution_count": 1,
      "metadata": {
        "colab": {
          "base_uri": "https://localhost:8080/"
        },
        "id": "Nf3UmfHXUq6b",
        "outputId": "fc54740b-ac72-47f2-8ae4-87693aa01c43"
      },
      "outputs": [
        {
          "output_type": "stream",
          "name": "stdout",
          "text": [
            "Drive already mounted at /content/drive; to attempt to forcibly remount, call drive.mount(\"/content/drive\", force_remount=True).\n"
          ]
        }
      ],
      "source": [
        "from google.colab import drive\n",
        "from pathlib import Path\n",
        "\n",
        "drive.mount('/content/drive')\n",
        "DRIVE_ROOT = Path('/content/drive/MyDrive')\n",
        "\n",
        "DATA_ROOT= Path('./data/')\n",
        "MODEL_ROOT = DRIVE_ROOT / 'weights'\n",
        "\n",
        "!mkdir -p {DATA_ROOT}\n",
        "!mkdir -p {MODEL_ROOT}"
      ]
    },
    {
      "cell_type": "code",
      "execution_count": 2,
      "metadata": {
        "id": "Q7gJEpCCZjnx"
      },
      "outputs": [],
      "source": [
        "%pip install -q matplotlib\n",
        "%pip install -q torchviz torchinfo\n",
        "%pip install -q tqdm"
      ]
    },
    {
      "cell_type": "code",
      "execution_count": 3,
      "metadata": {
        "id": "iKz0U3VTZtHP"
      },
      "outputs": [],
      "source": [
        "from IPython.display import display\n",
        "\n",
        "import math\n",
        "import matplotlib.pyplot as plt\n",
        "import numpy as np\n",
        "import os\n",
        "import pandas as pd\n",
        "from tqdm.notebook import tqdm\n",
        "\n",
        "import torch\n",
        "from torch import nn, optim\n",
        "from torch.nn import functional as F\n",
        "from torch.utils.data import Dataset, DataLoader, Subset\n",
        "from torchinfo import summary\n",
        "from torchvision import datasets, models, ops, transforms\n",
        "\n",
        "%matplotlib inline\n",
        "plt.rcParams['font.size'] = 14\n",
        "plt.rcParams['figure.figsize'] = (3, 3)\n",
        "plt.rcParams['axes.grid'] = True\n",
        "np.set_printoptions(suppress=True, precision=4)\n",
        "\n",
        "def get_device():\n",
        "    '''Get device (CPU or GPU).'''\n",
        "    return torch.device(\"cuda:0\" if torch.cuda.is_available() else \"cpu\")"
      ]
    },
    {
      "cell_type": "markdown",
      "metadata": {
        "id": "BlL2sqmZE3pS"
      },
      "source": [
        "## Network models and the loss\n",
        "Just like before, Binary Cross Entropy is used as the loss function. In this case, that is  $-log D(\\text{image}, \\text{noise})$.\n",
        "\n",
        "So, for the real image input 'x':\n",
        "$$ loss_{real} = -log D(x, E(x)) $$\n",
        "\n",
        "and for the noize input 'z':\n",
        "$$ loss_{fake} = -log(D(G(z), z)) $$\n",
        "\n",
        "Here, $G$, $D$, and $E$ denote the generator, discriminator, and encoder networks, respectively."
      ]
    },
    {
      "cell_type": "code",
      "execution_count": 4,
      "metadata": {
        "id": "DXXuKCyrZyvM"
      },
      "outputs": [],
      "source": [
        "class Generator(nn.Module):\n",
        "    def __init__(self, z_dim=20):\n",
        "        super(Generator, self).__init__()\n",
        "\n",
        "        self.layer1 = nn.Sequential(\n",
        "            nn.Linear(z_dim, 1024),\n",
        "            nn.BatchNorm1d(1024),\n",
        "            nn.ReLU(inplace=True)\n",
        "        )\n",
        "\n",
        "        self.layer2 = nn.Sequential(\n",
        "            nn.Linear(1024, 7*7*128),\n",
        "            nn.BatchNorm1d(7*7*128),\n",
        "            nn.ReLU(inplace=True)\n",
        "        )\n",
        "\n",
        "        self.layer3 = nn.Sequential(\n",
        "            nn.ConvTranspose2d(in_channels=128, out_channels=64, kernel_size=4, stride=2, padding=1),\n",
        "            nn.BatchNorm2d(64),\n",
        "            nn.ReLU(inplace=True)\n",
        "        )\n",
        "\n",
        "        self.last = nn.Sequential(\n",
        "            nn.ConvTranspose2d(in_channels=64, out_channels=1, kernel_size=4, stride=2, padding=1),\n",
        "            nn.Tanh()\n",
        "        )\n",
        "\n",
        "    def forward(self, z):\n",
        "        z = self.layer1(z)\n",
        "        z = self.layer2(z)\n",
        "\n",
        "        z = z.view(z.shape[0], 128, 7, 7)\n",
        "        z = self.layer3(z)\n",
        "        z = self.last(z)\n",
        "        return z"
      ]
    },
    {
      "cell_type": "code",
      "execution_count": 5,
      "metadata": {
        "id": "31JsoFCxZvJn"
      },
      "outputs": [],
      "source": [
        "class Discriminator(nn.Module):\n",
        "    def __init__(self, z_dim=20):\n",
        "        super(Discriminator, self).__init__()\n",
        "\n",
        "        self.x_layer1 = nn.Sequential(\n",
        "            nn.Conv2d(1, 64, kernel_size=4, stride=2, padding=1),\n",
        "            nn.LeakyReLU(0.1, inplace=True)\n",
        "        )\n",
        "\n",
        "        self.x_layer2 = nn.Sequential(\n",
        "            nn.Conv2d(64, 64, kernel_size=4, stride=2, padding=1),\n",
        "            nn.BatchNorm2d(64),\n",
        "            nn.LeakyReLU(0.1, inplace=True)\n",
        "        )\n",
        "\n",
        "        self.z_layer1 = nn.Linear(z_dim, 512)\n",
        "\n",
        "        self.last1 = nn.Sequential(\n",
        "            nn.Linear(3648, 1024),\n",
        "            nn.LeakyReLU(0.1, inplace=True)\n",
        "        )\n",
        "\n",
        "        self.last2 = nn.Linear(1024, 1)\n",
        "\n",
        "    def forward(self, x, z):\n",
        "        x = self.x_layer1(x)\n",
        "        x = self.x_layer2(x)\n",
        "        x = torch.flatten(x, start_dim=1)\n",
        "\n",
        "        z = z.view(z.shape[0], -1)\n",
        "        z = self.z_layer1(z)\n",
        "\n",
        "        out = torch.cat([x, z], dim=1)\n",
        "        out = self.last1(out)\n",
        "\n",
        "        feature = torch.flatten(out, start_dim=1)\n",
        "\n",
        "        out = self.last2(out)\n",
        "        return out, feature"
      ]
    },
    {
      "cell_type": "code",
      "execution_count": 6,
      "metadata": {
        "id": "rne0zTlsGdfk"
      },
      "outputs": [],
      "source": [
        "class Encoder(nn.Module):\n",
        "    def __init__(self, z_dim=20):\n",
        "        super(Encoder, self).__init__()\n",
        "\n",
        "        self.layer1 = nn.Sequential(\n",
        "            nn.Conv2d(1, 32, kernel_size=3, stride=1),\n",
        "            nn.LeakyReLU(0.1, inplace=True)\n",
        "        )\n",
        "\n",
        "        self.layer2 = nn.Sequential(\n",
        "            nn.Conv2d(32, 64, kernel_size=3, stride=2, padding=1),\n",
        "            nn.BatchNorm2d(64),\n",
        "            nn.LeakyReLU(0.1, inplace=True)\n",
        "        )\n",
        "\n",
        "        self.layer3 = nn.Sequential(\n",
        "            nn.Conv2d(64, 128, kernel_size=3, stride=2, padding=1),\n",
        "            nn.BatchNorm2d(128),\n",
        "            nn.LeakyReLU(0.1, inplace=True)\n",
        "        )\n",
        "\n",
        "        self.last = nn.Linear(128 * 7 * 7, z_dim)\n",
        "\n",
        "    def forward(self, x):\n",
        "        x = self.layer1(x)\n",
        "        x = self.layer2(x)\n",
        "        x = self.layer3(x)\n",
        "\n",
        "        x = torch.flatten(x, start_dim=1)\n",
        "        x = self.last(x)\n",
        "        return x"
      ]
    },
    {
      "cell_type": "code",
      "source": [
        "def weights_init(m):\n",
        "    classname = m.__class__.__name__\n",
        "    if classname.find('Conv') != -1:\n",
        "        nn.init.normal_(m.weight.data, 0.0, 0.02)\n",
        "        nn.init.constant_(m.bias.data, 0)\n",
        "    elif classname.find('BatchNorm') != -1:\n",
        "        nn.init.normal_(m.weight.data, 1.0, 0.02)\n",
        "        nn.init.constant_(m.bias.data, 0)\n",
        "\n",
        "\n",
        "def build_GAN(z_dim=20):\n",
        "    G = Generator(z_dim=z_dim).apply(weights_init)\n",
        "    D = Discriminator(z_dim=z_dim).apply(weights_init)\n",
        "    E = Encoder(z_dim=z_dim).apply(weights_init)\n",
        "    return G, D, E"
      ],
      "metadata": {
        "id": "T0Hv0q0_M9DR"
      },
      "execution_count": 7,
      "outputs": []
    },
    {
      "cell_type": "markdown",
      "source": [
        "## Training a DCGAN model with the target dataset"
      ],
      "metadata": {
        "id": "l79eZX-tKDFs"
      }
    },
    {
      "cell_type": "code",
      "source": [
        "class ImageTransform():\n",
        "    def __init__(self, mean, std, image_size):\n",
        "        self.transform = transforms.Compose([\n",
        "            transforms.Resize(image_size),\n",
        "            transforms.ToTensor(),\n",
        "            transforms.Normalize(mean, std)\n",
        "        ])\n",
        "\n",
        "    def __call__(self, image):\n",
        "        return self.transform(image)\n",
        "\n",
        "class TinyMnistDataset(Dataset):\n",
        "    def __init__(self, root, train, keys, transform=None, download=True, num_images=200):\n",
        "        self.dataset = datasets.MNIST(root=root, train=train, download=download)\n",
        "        self.transform = transform\n",
        "\n",
        "        self.indices = []\n",
        "        for key in keys:\n",
        "            key_indices = np.where(np.array(self.dataset.targets) == key)[0]\n",
        "            self.indices += list(key_indices[:num_images])\n",
        "\n",
        "    def __len__(self):\n",
        "        return len(self.indices)\n",
        "\n",
        "    def __getitem__(self, idx):\n",
        "        image, _ = self.dataset[self.indices[idx]]\n",
        "        if self.transform:\n",
        "            image = self.transform(image)\n",
        "        return image"
      ],
      "metadata": {
        "id": "KEcySN2CJ5_P"
      },
      "execution_count": 8,
      "outputs": []
    },
    {
      "cell_type": "code",
      "source": [
        "def train(generator, discriminator, encoder, criterion, g_optimizer, d_optimizer, e_optimizer, data_loader, device):\n",
        "    generator.train()\n",
        "    discriminator.train()\n",
        "    encoder.train()\n",
        "\n",
        "    total_g_loss = 0\n",
        "    total_d_loss = 0\n",
        "    total_e_loss = 0\n",
        "    for images in data_loader:\n",
        "        images = images.to(device)\n",
        "        batch_size = images.shape[0]\n",
        "\n",
        "        # -----------------------\n",
        "        # 1. Train Discriminator\n",
        "        # -----------------------\n",
        "        # Generate z_inputs from real images and realness score from the z.\n",
        "        z_out_real = encoder(images)\n",
        "        d_out_real, _ = discriminator(images, z_out_real)\n",
        "\n",
        "        # Generate z_inputs from fake images and realness score from the z.\n",
        "        input_z = torch.randn(batch_size, z_dim).to(device)\n",
        "        fake_images = G(input_z)\n",
        "        d_out_fake, _ = D(fake_images, input_z)\n",
        "\n",
        "        # Prepare labels.\n",
        "        label_real = torch.full((batch_size,), 1, dtype=torch.float).to(device)\n",
        "        label_fake = torch.full((batch_size,), 0, dtype=torch.float).to(device)\n",
        "\n",
        "        # Calculate the loss.\n",
        "        d_loss_real = criterion(d_out_real.view(-1), label_real)\n",
        "        d_loss_fake = criterion(d_out_fake.view(-1), label_fake)\n",
        "        d_loss = d_loss_real + d_loss_fake\n",
        "\n",
        "        # Backpropagate the loss and update the discriminator.\n",
        "        d_optimizer.zero_grad()\n",
        "        d_loss.backward()\n",
        "        d_optimizer.step()\n",
        "\n",
        "        # -----------------------\n",
        "        # 2. Train Generator\n",
        "        # -----------------------\n",
        "        # Generate fake images from random noise.\n",
        "        input_z = torch.randn(batch_size, z_dim).to(device)\n",
        "        fake_images = G(input_z)\n",
        "        d_out_fake, _ = D(fake_images, input_z)\n",
        "\n",
        "        # Calculate the loss (This provides high loss when the discriminator see through fake images.)\n",
        "        g_loss = criterion(d_out_fake.view(-1), label_real)\n",
        "\n",
        "        # Backpropagate the loss and update the generator.\n",
        "        g_optimizer.zero_grad()\n",
        "        g_loss.backward()\n",
        "        g_optimizer.step()\n",
        "\n",
        "        # -----------------------\n",
        "        # 3. Train Encoder\n",
        "        # -----------------------\n",
        "        # Generate fake images from random noise.\n",
        "        z_out_real = encoder(images)\n",
        "        d_out_fake, _ = D(images, z_out_real)\n",
        "\n",
        "        # Calculate the loss.\n",
        "        e_loss = criterion(d_out_fake.view(-1), label_fake)\n",
        "\n",
        "        # Backpropagate the loss and update the discriminator.\n",
        "        e_optimizer.zero_grad()\n",
        "        e_loss.backward()\n",
        "        e_optimizer.step()\n",
        "\n",
        "        total_g_loss += g_loss.item()\n",
        "        total_d_loss += d_loss.item()\n",
        "        total_e_loss += e_loss.item()\n",
        "\n",
        "    return total_g_loss / len(data_loader), total_d_loss / len(data_loader), total_e_loss / len(data_loader)\n",
        "\n",
        "\n",
        "def train_GAN(G, D, E, criterion, g_optimizer, d_optimizer, e_optimizer, data_loader, num_epochs):\n",
        "    device = get_device()\n",
        "    torch.backends.cudnn.benchmark = True\n",
        "\n",
        "    G.to(device)\n",
        "    D.to(device)\n",
        "    E.to(device)\n",
        "    for epoch in range(num_epochs):\n",
        "        g_loss, d_loss, e_loss = train(G, D, E, criterion, g_optimizer, d_optimizer, e_optimizer, data_loader, device)\n",
        "\n",
        "        if (epoch + 1) % 100 == 0:\n",
        "            print(f'Epoch [{epoch+1}/{num_epochs}], g_loss: {g_loss:.4f}, d_loss: {d_loss:.4f}, e_loss: {e_loss:.4f}')"
      ],
      "metadata": {
        "id": "qQ7uYWGvKLdy"
      },
      "execution_count": 9,
      "outputs": []
    },
    {
      "cell_type": "code",
      "source": [
        "MEAN = (0.5,)\n",
        "STD = (0.5,)\n",
        "image_size = 28\n",
        "batch_size = 64\n",
        "\n",
        "train_dataset = TinyMnistDataset(\n",
        "    root=DATA_ROOT, train=True, keys=[7, 8], transform=ImageTransform(MEAN, STD, image_size))\n",
        "\n",
        "train_dataloader = torch.utils.data.DataLoader(\n",
        "    train_dataset, batch_size=batch_size, shuffle=True)"
      ],
      "metadata": {
        "id": "RgmzYKbnMIWj"
      },
      "execution_count": 10,
      "outputs": []
    },
    {
      "cell_type": "code",
      "source": [
        "num_epochs = 1500\n",
        "z_dim = 20\n",
        "ge_lr = 0.0001\n",
        "d_lr = 0.0001/4\n",
        "beta1, beta2 = 0.5, 0.999\n",
        "\n",
        "G, D, E = build_GAN(z_dim=z_dim)\n",
        "\n",
        "criterion = nn.BCEWithLogitsLoss(reduction='mean')\n",
        "g_optimizer = torch.optim.Adam(G.parameters(), ge_lr, [beta1, beta2])\n",
        "d_optimizer = torch.optim.Adam(D.parameters(), d_lr, [beta1, beta2])\n",
        "e_optimizer = torch.optim.Adam(E.parameters(), ge_lr, [beta1, beta2])\n",
        "\n",
        "train_GAN(G, D, E, criterion, g_optimizer, d_optimizer, e_optimizer, train_dataloader, num_epochs)"
      ],
      "metadata": {
        "colab": {
          "base_uri": "https://localhost:8080/"
        },
        "id": "KdFwPdv9MLfq",
        "outputId": "ff9d2606-7f9b-4668-f7aa-33d704f1cbdb"
      },
      "execution_count": 11,
      "outputs": [
        {
          "output_type": "stream",
          "name": "stdout",
          "text": [
            "Epoch [100/1500], g_loss: 1.0368, d_loss: 0.9905, e_loss: 1.1314\n",
            "Epoch [200/1500], g_loss: 1.0618, d_loss: 0.8924, e_loss: 1.2206\n",
            "Epoch [300/1500], g_loss: 1.4064, d_loss: 0.7613, e_loss: 1.4467\n",
            "Epoch [400/1500], g_loss: 1.6682, d_loss: 0.5608, e_loss: 1.7682\n",
            "Epoch [500/1500], g_loss: 1.9699, d_loss: 0.5641, e_loss: 1.9519\n",
            "Epoch [600/1500], g_loss: 2.4193, d_loss: 0.3528, e_loss: 2.1524\n",
            "Epoch [700/1500], g_loss: 2.6671, d_loss: 0.2539, e_loss: 2.5497\n",
            "Epoch [800/1500], g_loss: 3.0547, d_loss: 0.1813, e_loss: 2.9392\n",
            "Epoch [900/1500], g_loss: 3.1590, d_loss: 0.1745, e_loss: 3.0489\n",
            "Epoch [1000/1500], g_loss: 3.7279, d_loss: 0.1278, e_loss: 3.2551\n",
            "Epoch [1100/1500], g_loss: 3.6857, d_loss: 0.1379, e_loss: 3.3052\n",
            "Epoch [1200/1500], g_loss: 4.3456, d_loss: 0.0841, e_loss: 3.7921\n",
            "Epoch [1300/1500], g_loss: 4.5604, d_loss: 0.0772, e_loss: 4.1180\n",
            "Epoch [1400/1500], g_loss: 5.2929, d_loss: 0.0557, e_loss: 3.9398\n",
            "Epoch [1500/1500], g_loss: 5.3078, d_loss: 0.0544, e_loss: 4.3945\n"
          ]
        }
      ]
    },
    {
      "cell_type": "markdown",
      "source": [
        "## Anomaly Detection"
      ],
      "metadata": {
        "id": "wK9RDXSxPzjg"
      }
    },
    {
      "cell_type": "code",
      "source": [
        "test_dataset = TinyMnistDataset(\n",
        "    root=DATA_ROOT, train=True, keys=[2, 7, 8], num_images=2)\n",
        "batch_size = len(test_dataset)\n",
        "\n",
        "fig = plt.figure(figsize=(15, 6))\n",
        "for i, image in enumerate(test_dataset):\n",
        "    plt.subplot(1, batch_size, i + 1)\n",
        "    plt.imshow(image, 'gray')\n",
        "    plt.axis('off')"
      ],
      "metadata": {
        "colab": {
          "base_uri": "https://localhost:8080/",
          "height": 199
        },
        "id": "uQqx9PWLOT-B",
        "outputId": "b67012b8-3a1c-4b88-8ee7-14a7236b7815"
      },
      "execution_count": 12,
      "outputs": [
        {
          "output_type": "display_data",
          "data": {
            "text/plain": [
              "<Figure size 1500x600 with 6 Axes>"
            ],
            "image/png": "[encoded data removed]"
          },
          "metadata": {}
        }
      ]
    },
    {
      "cell_type": "code",
      "source": [
        "def calculate_anomaly_score(target_images, fake_images, z_out_real, D, lambda_weight=0.1):\n",
        "    residual_loss = torch.abs(target_images - fake_images)\n",
        "    residual_loss = residual_loss.view(residual_loss.size()[0], -1)\n",
        "    residual_loss = torch.sum(residual_loss, dim=1)\n",
        "\n",
        "    _, t_feature = D(target_images, z_out_real)\n",
        "    _, G_feature = D(fake_images, z_out_real)\n",
        "    discrimination_loss = torch.abs(t_feature - G_feature)\n",
        "    discrimination_loss = torch.sum(discrimination_loss, dim=1)\n",
        "\n",
        "    loss_each = (1-lambda_weight)*residual_loss + lambda_weight*discrimination_loss\n",
        "    total_loss = torch.sum(loss_each)\n",
        "\n",
        "    return total_loss, loss_each"
      ],
      "metadata": {
        "id": "GzJIxvnHQaJ9"
      },
      "execution_count": 13,
      "outputs": []
    },
    {
      "cell_type": "code",
      "source": [
        "score_threshold = 150\n",
        "device = get_device()\n",
        "\n",
        "transform=ImageTransform(MEAN, STD, image_size)\n",
        "targets = torch.stack([transform(image) for image in test_dataset])\n",
        "targets = targets.to(device)\n",
        "\n",
        "G.eval()\n",
        "D.eval()\n",
        "E.eval()\n",
        "z_out_real = E(targets.to(device))\n",
        "fake_images = G(z_out_real)\n",
        "\n",
        "loss, loss_each = calculate_anomaly_score(targets, fake_images, z_out_real, D)\n",
        "loss_each = loss_each.cpu().detach().numpy()\n",
        "\n",
        "fig = plt.figure(figsize=(15, 6))\n",
        "for i in range(batch_size):\n",
        "    plt.subplot(2, batch_size, i+1)\n",
        "    plt.imshow(targets[i][0].cpu().detach().numpy(), 'gray')\n",
        "    plt.axis('off')\n",
        "\n",
        "    plt.subplot(2, batch_size, batch_size+i+1)\n",
        "    title_color = 'red' if loss_each[i] >= score_threshold else 'black'\n",
        "    plt.title(f'{loss_each[i]:.0f}', color=title_color)\n",
        "    plt.imshow(fake_images[i][0].cpu().detach().numpy(), 'gray')\n",
        "    plt.axis('off')"
      ],
      "metadata": {
        "colab": {
          "base_uri": "https://localhost:8080/",
          "height": 446
        },
        "id": "ntPbrOnbP64t",
        "outputId": "25c9851f-512c-49ce-ddde-75c633891817"
      },
      "execution_count": 16,
      "outputs": [
        {
          "output_type": "display_data",
          "data": {
            "text/plain": [
              "<Figure size 1500x600 with 12 Axes>"
            ],
            "image/png": "[encoded data removed]"
          },
          "metadata": {}
        }
      ]
    }
  ],
  "metadata": {
    "accelerator": "GPU",
    "colab": {
      "gpuType": "A100",
      "machine_shape": "hm",
      "provenance": [],
      "authorship_tag": "ABX9TyMjkC7Xzfl2frnYms+/dZJF"
    },
    "kernelspec": {
      "display_name": "Python 3",
      "name": "python3"
    },
    "language_info": {
      "name": "python"
    }
  },
  "nbformat": 4,
  "nbformat_minor": 0
}