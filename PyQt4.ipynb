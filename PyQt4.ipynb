{
 "cells": [
  {
   "cell_type": "markdown",
   "metadata": {},
   "source": [
    "Basic Template"
   ]
  },
  {
   "cell_type": "code",
   "execution_count": 1,
   "metadata": {},
   "outputs": [
    {
     "data": {
      "text/plain": [
       "0"
      ]
     },
     "execution_count": 1,
     "metadata": {},
     "output_type": "execute_result"
    }
   ],
   "source": [
    "from PyQt4 import QtGui, QtCore\n",
    "\n",
    "import sys\n",
    "\n",
    "app = 0  # initialize for jupyter note book\n",
    "app = QtGui.QApplication(sys.argv)    \n",
    "window = QtGui.QWidget()\n",
    "window.setWindowTitle('sample')\n",
    "window.show()\n",
    "app.exec_()\n",
    "# sys.exit(app.exec_())"
   ]
  },
  {
   "cell_type": "markdown",
   "metadata": {},
   "source": [
    "Widget Class"
   ]
  },
  {
   "cell_type": "code",
   "execution_count": 4,
   "metadata": {},
   "outputs": [
    {
     "data": {
      "text/plain": [
       "0"
      ]
     },
     "execution_count": 4,
     "metadata": {},
     "output_type": "execute_result"
    }
   ],
   "source": [
    "class MainWindow(QtGui.QDialog):\n",
    "    def __init__(self, parent=None):\n",
    "        super(MainWindow, self).__init__(parent)\n",
    "        self.setWindowTitle(\"main window\")\n",
    "        self.setMinimumSize(200, 200)\n",
    "\n",
    "app = 0  # initialize for jupyter note book\n",
    "app = QtGui.QApplication(sys.argv)\n",
    "window = MainWindow()\n",
    "window.show()\n",
    "app.exec_()\n",
    "# sys.exit(app.exec_())"
   ]
  },
  {
   "cell_type": "markdown",
   "metadata": {},
   "source": [
    "Widget, FileDialog"
   ]
  },
  {
   "cell_type": "code",
   "execution_count": 6,
   "metadata": {},
   "outputs": [
    {
     "name": "stdout",
     "output_type": "stream",
     "text": [
      "Select  /home/hayashi/cloud.cfg\n"
     ]
    },
    {
     "data": {
      "text/plain": [
       "0"
      ]
     },
     "execution_count": 6,
     "metadata": {},
     "output_type": "execute_result"
    }
   ],
   "source": [
    "import os \n",
    "\n",
    "class FileBrowser(QtGui.QDialog):\n",
    "    def __init__(self, parent=None):\n",
    "        super(FileBrowser, self).__init__(parent)\n",
    "        \n",
    "        main_vbox = QtGui.QVBoxLayout()\n",
    "\n",
    "        browse_btn = QtGui.QPushButton(\"browse\")\n",
    "        browse_btn.clicked.connect(self.browse_file)\n",
    "        main_vbox.addWidget(browse_btn)\n",
    "\n",
    "        self.setLayout(main_vbox)\n",
    "        self.setWindowTitle(\"file broweser\")\n",
    "        self.setMinimumSize(200, 200)\n",
    "\n",
    "    def browse_file(self):\n",
    "        filename = QtGui.QFileDialog.getOpenFileName(\n",
    "            self, \"Open file\", os.path.expanduser(\"~\")\n",
    "        )\n",
    "        print \"Select \", filename\n",
    "        \n",
    "app = 0  # initialize for jupyter note book\n",
    "app = QtGui.QApplication(sys.argv)\n",
    "window = FileBrowser()\n",
    "window.show()\n",
    "app.exec_()\n",
    "# sys.exit(app.exec_())"
   ]
  },
  {
   "cell_type": "markdown",
   "metadata": {},
   "source": [
    "Image viewer"
   ]
  },
  {
   "cell_type": "code",
   "execution_count": 14,
   "metadata": {},
   "outputs": [
    {
     "name": "stdout",
     "output_type": "stream",
     "text": [
      "Select  /home/hayashi/work/sakura.jpg\n"
     ]
    },
    {
     "data": {
      "text/plain": [
       "0"
      ]
     },
     "execution_count": 14,
     "metadata": {},
     "output_type": "execute_result"
    }
   ],
   "source": [
    "class ImageViewer(QtGui.QDialog):\n",
    "    def __init__(self, parent=None):\n",
    "        super(ImageViewer, self).__init__(parent)\n",
    "        \n",
    "        main_vbox = QtGui.QVBoxLayout()\n",
    "\n",
    "        browse_btn = QtGui.QPushButton(\"browse\")\n",
    "        browse_btn.clicked.connect(self.open_file)\n",
    "        main_vbox.addWidget(browse_btn)\n",
    "        \n",
    "        self.paint_label = QtGui.QLabel()\n",
    "        self.paint_label.setSizePolicy(QtGui.QSizePolicy.Preferred,QtGui.QSizePolicy.Preferred)\n",
    "        main_vbox.addWidget(self.paint_label)\n",
    "\n",
    "        self.setLayout(main_vbox)\n",
    "        self.setWindowTitle(\"file broweser\")\n",
    "        self.setMinimumSize(200, 200)\n",
    "\n",
    "    def open_file(self):\n",
    "        filename = QtGui.QFileDialog.getOpenFileName(\n",
    "            self, \"Open file\", os.path.expanduser(\"~\"), \"Image file (*.png *.jpg)\"\n",
    "        )\n",
    "        print \"Select \", filename\n",
    "        \n",
    "        self.paint_label.setPixmap(QtGui.QPixmap(filename))\n",
    "        \n",
    "app = 0  # initialize for jupyter notebook\n",
    "app = QtGui.QApplication(sys.argv)\n",
    "window = ImageViewer()\n",
    "window.show()\n",
    "window.raise_()\n",
    "app.exec_()\n",
    "# sys.exit(app.exec_())"
   ]
  },
  {
   "cell_type": "code",
   "execution_count": null,
   "metadata": {
    "collapsed": true
   },
   "outputs": [],
   "source": []
  }
 ],
 "metadata": {
  "kernelspec": {
   "display_name": "Python 2",
   "language": "python",
   "name": "python2"
  },
  "language_info": {
   "codemirror_mode": {
    "name": "ipython",
    "version": 2
   },
   "file_extension": ".py",
   "mimetype": "text/x-python",
   "name": "python",
   "nbconvert_exporter": "python",
   "pygments_lexer": "ipython2",
   "version": "2.7.12"
  }
 },
 "nbformat": 4,
 "nbformat_minor": 2
}
