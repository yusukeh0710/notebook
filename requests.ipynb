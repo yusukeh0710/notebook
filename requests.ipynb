{
  "nbformat": 4,
  "nbformat_minor": 0,
  "metadata": {
    "colab": {
      "name": "requests.ipynb",
      "provenance": [],
      "collapsed_sections": []
    },
    "kernelspec": {
      "name": "python3",
      "display_name": "Python 3"
    }
  },
  "cells": [
    {
      "cell_type": "code",
      "metadata": {
        "id": "1i6xutL8Gapt",
        "colab_type": "code",
        "colab": {}
      },
      "source": [
        "import json\n",
        "from pprint import pprint\n",
        "import requests\n",
        "headers = {\n",
        "    \"Content-Type\": \"application/json\"\n",
        "}"
      ],
      "execution_count": 1,
      "outputs": []
    },
    {
      "cell_type": "markdown",
      "metadata": {
        "id": "mLkzZQYbGu5j",
        "colab_type": "text"
      },
      "source": [
        "#### Get\n",
        "Usage:<br>\n",
        "* requests.get(url)\n",
        "* requests.get(url, headers=None, params=None, auth=None, ...)\n",
        "\n",
        "Return: Response Object\n",
        "  * url\n",
        "  * status_code\n",
        "  * headers\n",
        "  * text, json\n",
        "  * content "
      ]
    },
    {
      "cell_type": "code",
      "metadata": {
        "id": "Q1TxAwWjGg-Q",
        "colab_type": "code",
        "colab": {
          "base_uri": "https://localhost:8080/",
          "height": 250
        },
        "outputId": "bcd989c1-c05e-4cc8-d283-1792b7ca03ae"
      },
      "source": [
        "url = \"https://httpbin.org/get\"\n",
        "response = requests.get(url, headers=headers)\n",
        "\n",
        "status_code = response.status_code\n",
        "\n",
        "print(response)\n",
        "print(status_code)\n",
        "pprint(response.json())\n",
        "print(response.content)"
      ],
      "execution_count": 2,
      "outputs": [
        {
          "output_type": "stream",
          "text": [
            "<Response [200]>\n",
            "200\n",
            "{'args': {},\n",
            " 'headers': {'Accept': '*/*',\n",
            "             'Accept-Encoding': 'gzip, deflate',\n",
            "             'Content-Type': 'application/json',\n",
            "             'Host': 'httpbin.org',\n",
            "             'User-Agent': 'python-requests/2.23.0',\n",
            "             'X-Amzn-Trace-Id': 'Root=1-5f2e5aaf-f898064aee5ed7b31b4bc9a5'},\n",
            " 'origin': '34.83.205.143',\n",
            " 'url': 'https://httpbin.org/get'}\n",
            "b'{\\n  \"args\": {}, \\n  \"headers\": {\\n    \"Accept\": \"*/*\", \\n    \"Accept-Encoding\": \"gzip, deflate\", \\n    \"Content-Type\": \"application/json\", \\n    \"Host\": \"httpbin.org\", \\n    \"User-Agent\": \"python-requests/2.23.0\", \\n    \"X-Amzn-Trace-Id\": \"Root=1-5f2e5aaf-f898064aee5ed7b31b4bc9a5\"\\n  }, \\n  \"origin\": \"34.83.205.143\", \\n  \"url\": \"https://httpbin.org/get\"\\n}\\n'\n"
          ],
          "name": "stdout"
        }
      ]
    },
    {
      "cell_type": "code",
      "metadata": {
        "id": "VqlL8GoeHhjq",
        "colab_type": "code",
        "colab": {
          "base_uri": "https://localhost:8080/",
          "height": 195
        },
        "outputId": "77ec2317-5fe5-4167-cc57-059ccee9cb67"
      },
      "source": [
        "url = \"https://httpbin.org/get\"\n",
        "\n",
        "# With payload\n",
        "payload={ \"arg1\": \"foo\", \"args2\": \"bar\"}\n",
        "response = requests.get(url, headers=headers, params=payload)\n",
        "pprint(response.json())\n",
        "\n",
        "# With redirect\n",
        "response.history"
      ],
      "execution_count": 3,
      "outputs": [
        {
          "output_type": "stream",
          "text": [
            "{'args': {'arg1': 'foo', 'args2': 'bar'},\n",
            " 'headers': {'Accept': '*/*',\n",
            "             'Accept-Encoding': 'gzip, deflate',\n",
            "             'Content-Type': 'application/json',\n",
            "             'Host': 'httpbin.org',\n",
            "             'User-Agent': 'python-requests/2.23.0',\n",
            "             'X-Amzn-Trace-Id': 'Root=1-5f2e5aaf-083ad445187db2c74e8ef057'},\n",
            " 'origin': '34.83.205.143',\n",
            " 'url': 'https://httpbin.org/get?arg1=foo&args2=bar'}\n"
          ],
          "name": "stdout"
        },
        {
          "output_type": "execute_result",
          "data": {
            "text/plain": [
              "[]"
            ]
          },
          "metadata": {
            "tags": []
          },
          "execution_count": 3
        }
      ]
    },
    {
      "cell_type": "code",
      "metadata": {
        "id": "s-85TZH95zUR",
        "colab_type": "code",
        "colab": {
          "base_uri": "https://localhost:8080/",
          "height": 35
        },
        "outputId": "0f991c3f-c86b-4db4-a4c4-de694ec3c4c8"
      },
      "source": [
        "# With basic authentication\n",
        "user = \"user\"\n",
        "password = \"passwd\"\n",
        "url = \"https://httpbin.org/basic-auth/{}/{}\".format(user, password)\n",
        "requests.get(url, auth=(user,password))"
      ],
      "execution_count": 4,
      "outputs": [
        {
          "output_type": "execute_result",
          "data": {
            "text/plain": [
              "<Response [200]>"
            ]
          },
          "metadata": {
            "tags": []
          },
          "execution_count": 4
        }
      ]
    },
    {
      "cell_type": "code",
      "metadata": {
        "id": "FX9YyJCu8cdp",
        "colab_type": "code",
        "colab": {}
      },
      "source": [
        "# Save file\n",
        "url = \"https://httpbin.org/gzip\"\n",
        "response = requests.get(url)\n",
        "with open(\"./test.txt\", 'wb') as f:\n",
        "    f.write(response.content)"
      ],
      "execution_count": 5,
      "outputs": []
    },
    {
      "cell_type": "markdown",
      "metadata": {
        "id": "PpMagj5_Kuus",
        "colab_type": "text"
      },
      "source": [
        "#### POST\n",
        "Usage:<br>\n",
        "* requests.post(url, data=json.dump(xxx))\n",
        "* requests.post(url, json=xxx)\n",
        "* requests.get(url, json, headers=None, params=None, auth=None, ...)\n",
        "\n",
        "Return: Response Object\n",
        "  * url\n",
        "  * status_code\n",
        "  * headers\n",
        "  * text, json\n",
        "  * content "
      ]
    },
    {
      "cell_type": "code",
      "metadata": {
        "id": "vcHo1GFLKV5f",
        "colab_type": "code",
        "colab": {
          "base_uri": "https://localhost:8080/",
          "height": 266
        },
        "outputId": "2d813eb8-0b47-4f1b-b4bd-845a8157990d"
      },
      "source": [
        "url = \"https://httpbin.org/post\"\n",
        "data = {\n",
        "    \"title\": \"test\",\n",
        "    \"tag\": \"http\",\n",
        "}\n",
        "response = requests.post(url, headers=headers, json=data)\n",
        "response.json()"
      ],
      "execution_count": 6,
      "outputs": [
        {
          "output_type": "execute_result",
          "data": {
            "text/plain": [
              "{'args': {},\n",
              " 'data': '{\"title\": \"test\", \"tag\": \"http\"}',\n",
              " 'files': {},\n",
              " 'form': {},\n",
              " 'headers': {'Accept': '*/*',\n",
              "  'Accept-Encoding': 'gzip, deflate',\n",
              "  'Content-Length': '32',\n",
              "  'Content-Type': 'application/json',\n",
              "  'Host': 'httpbin.org',\n",
              "  'User-Agent': 'python-requests/2.23.0',\n",
              "  'X-Amzn-Trace-Id': 'Root=1-5f2e5ab0-b6b0555a4473a89be537a90c'},\n",
              " 'json': {'tag': 'http', 'title': 'test'},\n",
              " 'origin': '34.83.205.143',\n",
              " 'url': 'https://httpbin.org/post'}"
            ]
          },
          "metadata": {
            "tags": []
          },
          "execution_count": 6
        }
      ]
    },
    {
      "cell_type": "markdown",
      "metadata": {
        "id": "B6f83IKc_50U",
        "colab_type": "text"
      },
      "source": [
        "#### Application Example: Github"
      ]
    },
    {
      "cell_type": "code",
      "metadata": {
        "id": "URDfq5Mx_84e",
        "colab_type": "code",
        "colab": {
          "base_uri": "https://localhost:8080/",
          "height": 639
        },
        "outputId": "05eb9748-d708-425d-e734-60b0fb9319c5"
      },
      "source": [
        "access_token = \"xxxxxxxxxxxxxxxxxxx\"\n",
        "url = \"https://api.github.com/repos/yusukeh0710/notebook/pulls\"\n",
        "headers[\"Authorization\"] = \"token %s\" % access_token\n",
        "response = requests.get(url, headers=headers, params={\"state\": \"closed\"})\n",
        "pprint(response.json(), depth=2, compact=True)"
      ],
      "execution_count": 9,
      "outputs": [
        {
          "output_type": "stream",
          "text": [
            "[{'_links': {...},\n",
            "  'active_lock_reason': None,\n",
            "  'assignee': None,\n",
            "  'assignees': [],\n",
            "  'author_association': 'OWNER',\n",
            "  'base': {...},\n",
            "  'body': '',\n",
            "  'closed_at': '2019-02-09T07:35:59Z',\n",
            "  'comments_url': 'https://api.github.com/repos/yusukeh0710/notebook/issues/1/comments',\n",
            "  'commits_url': 'https://api.github.com/repos/yusukeh0710/notebook/pulls/1/commits',\n",
            "  'created_at': '2019-02-09T07:35:25Z',\n",
            "  'diff_url': 'https://github.com/yusukeh0710/notebook/pull/1.diff',\n",
            "  'draft': False,\n",
            "  'head': {...},\n",
            "  'html_url': 'https://github.com/yusukeh0710/notebook/pull/1',\n",
            "  'id': 251659677,\n",
            "  'issue_url': 'https://api.github.com/repos/yusukeh0710/notebook/issues/1',\n",
            "  'labels': [],\n",
            "  'locked': False,\n",
            "  'merge_commit_sha': '5483f137e6e6bcf0c19664c5c0ae312ea764ad35',\n",
            "  'merged_at': '2019-02-09T07:35:59Z',\n",
            "  'milestone': None,\n",
            "  'node_id': 'MDExOlB1bGxSZXF1ZXN0MjUxNjU5Njc3',\n",
            "  'number': 1,\n",
            "  'patch_url': 'https://github.com/yusukeh0710/notebook/pull/1.patch',\n",
            "  'requested_reviewers': [],\n",
            "  'requested_teams': [],\n",
            "  'review_comment_url': 'https://api.github.com/repos/yusukeh0710/notebook/pulls/comments{/number}',\n",
            "  'review_comments_url': 'https://api.github.com/repos/yusukeh0710/notebook/pulls/1/comments',\n",
            "  'state': 'closed',\n",
            "  'statuses_url': 'https://api.github.com/repos/yusukeh0710/notebook/statuses/f2e8f226700e8b0159eece11eadd7062268949fd',\n",
            "  'title': 'Wip/eigen',\n",
            "  'updated_at': '2019-02-09T07:35:59Z',\n",
            "  'url': 'https://api.github.com/repos/yusukeh0710/notebook/pulls/1',\n",
            "  'user': {...}}]\n"
          ],
          "name": "stdout"
        }
      ]
    }
  ]
}