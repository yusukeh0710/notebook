{
 "cells": [
  {
   "cell_type": "markdown",
   "metadata": {},
   "source": [
    "## Python Requests Library"
   ]
  },
  {
   "cell_type": "markdown",
   "metadata": {},
   "source": [
    "### Basic Usage\n",
    "#### GET\n",
    "- requests.get(url)\n",
    "- requests.get(url, headers=headers)\n",
    "- requests.get(url, params=params)\n",
    "\n",
    "#### POST\n",
    "- requests.post(url)\n",
    "- requests.post(url, data=params)\n",
    "\n",
    "#### PUT\n",
    "- requests.put(url)\n",
    "\n",
    "#### DELETE\n",
    "- requests.delete(url)\n",
    "\n",
    "#### Session\n",
    "<pre>\n",
    "s = requests.Session()\n",
    "s.get(url)\n",
    "...\n",
    "</pre>"
   ]
  },
  {
   "cell_type": "markdown",
   "metadata": {},
   "source": [
    "### Example: Gitbucket\n",
    "API-ref : https://github.com/gitbucket/gitbucket/wiki/API-WebHook"
   ]
  },
  {
   "cell_type": "code",
   "execution_count": 1,
   "metadata": {},
   "outputs": [
    {
     "name": "stderr",
     "output_type": "stream",
     "text": [
      "/usr/local/lib/python2.7/dist-packages/requests/__init__.py:83: RequestsDependencyWarning: Old version of cryptography ([1, 2, 3]) may cause slowdown.\n",
      "  warnings.warn(warning, RequestsDependencyWarning)\n"
     ]
    }
   ],
   "source": [
    "from IPython.display import display\n",
    "import json\n",
    "import requests\n",
    "\n",
    "GITBUCKET_API_TOKEN=\"f34d5ff4b46717aabc8192223e3be647d689286b\"\n",
    "BASE_URL=\"http://127.0.0.1:8080/api/v3\"\n",
    "OWNER=\"root\"\n",
    "REPO=\"testrepo\"\n",
    "\n",
    "headers = {\n",
    "    'Content-Type': 'application/json',\n",
    "    'Authorization': 'token %s' % GITBUCKET_API_TOKEN\n",
    "}"
   ]
  },
  {
   "cell_type": "code",
   "execution_count": 2,
   "metadata": {},
   "outputs": [
    {
     "name": "stdout",
     "output_type": "stream",
     "text": [
      "(u'test branch 2nd', 2)\n",
      "(u'test branch', 1)\n"
     ]
    }
   ],
   "source": [
    "# List Pullrequests\n",
    "# GET /repos/:owner/:repo/pulls\n",
    "url = \"%s/repos/%s/%s/pulls\" % (BASE_URL, OWNER, REPO)\n",
    "\n",
    "r = requests.get(url, headers=headers)\n",
    "for pull_request_data in r.json():\n",
    "    print(pull_request_data[\"title\"], pull_request_data[\"number\"])"
   ]
  },
  {
   "cell_type": "code",
   "execution_count": 3,
   "metadata": {},
   "outputs": [
    {
     "data": {
      "text/plain": [
       "<Response [200]>"
      ]
     },
     "execution_count": 3,
     "metadata": {},
     "output_type": "execute_result"
    }
   ],
   "source": [
    "# Create Pullrequest\n",
    "# POST /repos/:owner/:repo/pulls\n",
    "url = \"%s/repos/%s/%s/pulls\" % (BASE_URL, OWNER, REPO)\n",
    "new_branch_name = \"new_feature\"\n",
    "\n",
    "params = {\n",
    "  \"title\": \"New feature\",\n",
    "  \"body\": \"This is new feature\",\n",
    "  \"head\": new_branch_name,\n",
    "  \"base\": \"master\",\n",
    "}\n",
    "\n",
    "r = requests.post(url, headers=headers, data=json.dumps(params))\n",
    "r"
   ]
  },
  {
   "cell_type": "code",
   "execution_count": 4,
   "metadata": {},
   "outputs": [
    {
     "data": {
      "text/plain": [
       "<Response [200]>"
      ]
     },
     "execution_count": 4,
     "metadata": {},
     "output_type": "execute_result"
    }
   ],
   "source": [
    "# Create Comment\n",
    "# POST /repos/:owner/:repo/issues/:number/comments\n",
    "pull_request_no = 1\n",
    "url = \"%s/repos/%s/%s/issues/%s/comments\" % (BASE_URL, OWNER, REPO, pull_request_no)\n",
    "\n",
    "params= {\n",
    "  \"body\": \"LGTM!!\"\n",
    "}\n",
    "\n",
    "r = requests.post(url, headers=headers, data=json.dumps(params))\n",
    "r"
   ]
  },
  {
   "cell_type": "markdown",
   "metadata": {},
   "source": [
    "### Example: Media Wiki\n",
    "API-ref: https://www.mediawiki.org/wiki/API:Main_page"
   ]
  },
  {
   "cell_type": "code",
   "execution_count": 5,
   "metadata": {
    "collapsed": true
   },
   "outputs": [],
   "source": [
    "BASE_URL=\"http://127.0.0.1/api.php\"\n",
    "USERNAME=\"test\"\n",
    "PASSWORD=\"testtest\""
   ]
  },
  {
   "cell_type": "code",
   "execution_count": 6,
   "metadata": {},
   "outputs": [
    {
     "data": {
      "text/plain": [
       "{u'batchcomplete': u'',\n",
       " u'query': {u'tokens': {u'logintoken': u'2f093b2423fb013e7204635049e0b9df5c55737c+\\\\'}}}"
      ]
     },
     "execution_count": 6,
     "metadata": {},
     "output_type": "execute_result"
    }
   ],
   "source": [
    "# Login\n",
    "# Get a login token\n",
    "#   GET: api.php?action=query&meta=tokens&type=login\n",
    "# Login\n",
    "#   POST: api.php?action=login&lgname=user&lgpassword=password&lgtoken=<token>\n",
    "session = requests.Session()\n",
    "\n",
    "url = BASE_URL\n",
    "params = {\n",
    "    'format': \"json\",\n",
    "    'action': \"query\",\n",
    "    'meta': \"tokens\",\n",
    "    'type': \"login\",\n",
    "}\n",
    "\n",
    "r = session.get(url, params=params)\n",
    "r.json()"
   ]
  },
  {
   "cell_type": "code",
   "execution_count": 7,
   "metadata": {},
   "outputs": [
    {
     "data": {
      "text/plain": [
       "{u'login': {u'lguserid': 1, u'lgusername': u'Test', u'result': u'Success'},\n",
       " u'warnings': {u'login': {u'*': u'Main-account login via \"action=login\" is deprecated and may stop working without warning. To continue login with \"action=login\", see [[Special:BotPasswords]]. To safely continue using main-account login, see \"action=clientlogin\".'},\n",
       "  u'main': {u'*': u'Subscribe to the mediawiki-api-announce mailing list at <https://lists.wikimedia.org/mailman/listinfo/mediawiki-api-announce> for notice of API deprecations and breaking changes.'}}}"
      ]
     },
     "execution_count": 7,
     "metadata": {},
     "output_type": "execute_result"
    }
   ],
   "source": [
    "token = r.json()[\"query\"][\"tokens\"][\"logintoken\"]\n",
    "\n",
    "params = {\n",
    "    'format': \"json\",\n",
    "    'action': \"login\",\n",
    "    'lgname': USERNAME,\n",
    "    'lgpassword': PASSWORD,\n",
    "    'lgtoken': token,\n",
    "}\n",
    "\n",
    "r = session.post(url, data=params)\n",
    "r.json()"
   ]
  },
  {
   "cell_type": "code",
   "execution_count": 8,
   "metadata": {},
   "outputs": [
    {
     "name": "stdout",
     "output_type": "stream",
     "text": [
      "test test\n",
      "test test\n"
     ]
    }
   ],
   "source": [
    "# Read a page for only logged-in user.\n",
    "page_titles = [\"Main_Page\"]\n",
    "params = {\n",
    "    'format': 'json',\n",
    "    'action': 'query',\n",
    "    'titles': page_titles,\n",
    "    'prop': 'revisions',\n",
    "    'rvprop': 'content',\n",
    "}\n",
    "\n",
    "data = session.get(url, params=params)\n",
    "\n",
    "texts = []\n",
    "for _, page in data.json()['query']['pages'].items():\n",
    "    texts = page['revisions'][0]['*']\n",
    "\n",
    "if texts:\n",
    "    for text in texts.split('\\n'):\n",
    "        print(text)"
   ]
  }
 ],
 "metadata": {
  "kernelspec": {
   "display_name": "Python 2",
   "language": "python",
   "name": "python2"
  },
  "language_info": {
   "codemirror_mode": {
    "name": "ipython",
    "version": 2
   },
   "file_extension": ".py",
   "mimetype": "text/x-python",
   "name": "python",
   "nbconvert_exporter": "python",
   "pygments_lexer": "ipython2",
   "version": "2.7.12"
  }
 },
 "nbformat": 4,
 "nbformat_minor": 2
}
