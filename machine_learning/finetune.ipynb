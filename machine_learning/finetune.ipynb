{
  "nbformat": 4,
  "nbformat_minor": 0,
  "metadata": {
    "colab": {
      "name": "finetune.ipynb のコピー",
      "version": "0.3.2",
      "views": {},
      "default_view": {},
      "provenance": [
        {
          "file_id": "1LuJNZz-F1sNLq5dbtlw7R9kJXYZw3-2l",
          "timestamp": 1529782044142
        },
        {
          "file_id": "1Gidb75NmzaiF1XHF4YfPDMiAkI_31L7J",
          "timestamp": 1527414285342
        }
      ]
    },
    "kernelspec": {
      "name": "python3",
      "display_name": "Python 3"
    },
    "accelerator": "GPU"
  },
  "cells": [
    {
      "metadata": {
        "id": "fKWTfCKph5Ir",
        "colab_type": "text"
      },
      "cell_type": "markdown",
      "source": [
        "###Learning with pre-trained model parameter as initial weight\n",
        "\n",
        "It's effective to use public pre-trained model file in learning if the model and your model have same layers.\n",
        "It's known empirically that former layers in neural network obtains abstract features and later layers / last layer obstains specific features for target. That's why models can share former layer-parameters without depending on prediction target and it saves time, computer resources and empirical techniques in training.\n",
        "\n",
        "<br>\n",
        "\n",
        "Major techniques about learning with pre-trained model parameters:\n",
        "- Initialize net-parameters using trained model and update the prameters with target dataset WITHOUT fixing each net-parameters\n",
        "- Initialize net-pamameters using trained model and train update only parameters in last layer and fix parameters in other layers. "
      ]
    },
    {
      "metadata": {
        "id": "NW_aHH2sl76M",
        "colab_type": "text"
      },
      "cell_type": "markdown",
      "source": [
        "#### Setup"
      ]
    },
    {
      "metadata": {
        "id": "JlCnduW5hJR2",
        "colab_type": "code",
        "colab": {
          "autoexec": {
            "startup": false,
            "wait_interval": 0
          }
        }
      },
      "cell_type": "code",
      "source": [
        "%matplotlib inline\n",
        "import torch\n",
        "from torch import nn, optim\n",
        "from torch.autograd import Variable\n",
        "import torchvision\n",
        "from torchvision import datasets, models, transforms\n",
        "\n",
        "import matplotlib.pyplot as plt\n",
        "import numpy as np\n",
        "import os\n",
        "import sys"
      ],
      "execution_count": 0,
      "outputs": []
    },
    {
      "metadata": {
        "id": "FqtpP2eCY-mA",
        "colab_type": "code",
        "colab": {
          "autoexec": {
            "startup": false,
            "wait_interval": 0
          }
        }
      },
      "cell_type": "code",
      "source": [
        "batch_size = 64\n",
        "\n",
        "transform = transforms.Compose([\n",
        "    transforms.Resize((224, 224), interpolation=Image.BICUBIC),\n",
        "    transforms.ToTensor(),\n",
        "    transforms.Normalize(\n",
        "        mean = [0.485, 0.456, 0.406],\n",
        "        std = [0.229, 0.224, 0.225])\n",
        "    ]\n",
        ")\n",
        "\n",
        "train_dataset = datasets.ImageFolder(root='./oxford_pet_dataset/train', transform=transform)\n",
        "train_loader = torch.utils.data.DataLoader(train_dataset, batch_size=batch_size, shuffle=True)\n",
        "\n",
        "val_dataset = datasets.ImageFolder(root='./oxford_pet_dataset/val', transform=transform)\n",
        "val_loader = torch.utils.data.DataLoader(val_dataset, batch_size=batch_size, shuffle=True)\n",
        "\n",
        "classes = train_dataset.classes\n",
        "num_classes = len(classes)"
      ],
      "execution_count": 0,
      "outputs": []
    },
    {
      "metadata": {
        "id": "O2tPY2dBEn4U",
        "colab_type": "code",
        "colab": {
          "autoexec": {
            "startup": false,
            "wait_interval": 0
          }
        }
      },
      "cell_type": "code",
      "source": [
        "# model starting with random-initialized parameter\n",
        "no_pretrain_model = models.vgg16(pretrained=False)\n",
        "\n",
        "# model with flexible pre-trained parameter\n",
        "flex_param_model = models.vgg16(pretrained=True)\n",
        "flex_param_model.classifier = nn.Sequential(\n",
        "    nn.Linear(512 * 7 * 7, 4096),\n",
        "    nn.ReLU(True),\n",
        "    nn.Dropout(),\n",
        "    nn.Linear(4096, 4096),\n",
        "    nn.ReLU(True),\n",
        "    nn.Dropout(),\n",
        "    nn.Linear(4096, num_classes)\n",
        ")\n",
        "\n",
        "# model with fixed pre-trained parameter except for last layer\n",
        "fix_param_model = models.vgg16(pretrained=True)\n",
        "removed = list(fix_param_model.classifier.children())[:-1]\n",
        "fix_param_model.classifier = torch.nn.Sequential(*removed, nn.Linear(4096, num_classes))\n",
        "for param in fix_param_model.parameters():\n",
        "    param.requires_grad = False\n",
        "for param in fix_param_model.classifier[6].parameters():\n",
        "    param.requires_grad = True\n",
        "\n",
        "# generate model_list, criterion, optimizer_list\n",
        "model_list = [no_pretrain_model, flex_param_model, fix_param_model]\n",
        "criterion = nn.CrossEntropyLoss()\n",
        "optimizer_list = [\n",
        "    optim.Adam(model.parameters(), lr = 0.0001) for model in \n",
        "    [no_pretrain_model, flex_param_model, fix_param_model.classifier[6]]\n",
        "]\n",
        "\n",
        "for model in model_list:\n",
        "    model.cuda()\n",
        "    \n",
        "num_models = len(model_list)"
      ],
      "execution_count": 0,
      "outputs": []
    },
    {
      "metadata": {
        "id": "piWGXpkx5hQI",
        "colab_type": "code",
        "colab": {
          "autoexec": {
            "startup": false,
            "wait_interval": 0
          }
        }
      },
      "cell_type": "code",
      "source": [
        "plotdata = {\n",
        "    'loss': [[] for i in range(num_models)],\n",
        "    'acc': [[] for i in range(num_models)],\n",
        "}\n",
        "\n",
        "def train():\n",
        "    for model in model_list:\n",
        "        model.train()\n",
        "\n",
        "    num_iter = len(train_loader)\n",
        "    cur_iter = 0\n",
        "    for data, targets in train_loader:\n",
        "        cur_iter += 1\n",
        "        sys.stdout.write(\"\\r%d/%d\" % (cur_iter, num_iter))\n",
        "        sys.stdout.flush()\n",
        "        \n",
        "        data, targets = data.cuda(), targets.cuda()\n",
        "        data, targets = Variable(data), Variable(targets)\n",
        "\n",
        "        for model, optimizer, plotloss in zip(model_list, optimizer_list, plotdata['loss']):\n",
        "            output = model(data)\n",
        "            optimizer.zero_grad()\n",
        "            loss = criterion(output, targets)\n",
        "            loss.backward()\n",
        "            optimizer.step()\n",
        "            \n",
        "            plotloss.append(loss.data[0])\n",
        "\n",
        "def validate():\n",
        "    for model in model_list:\n",
        "        model.eval()\n",
        "        \n",
        "    total = [0 for i in range(num_models)]\n",
        "    correct = [0 for i in range(num_models)]\n",
        "    \n",
        "    print(\" Validation\")\n",
        "    for data, targets in val_loader:\n",
        "        data, targets = data.cuda(), targets.cuda()\n",
        "        data = Variable(data, volatile=True)\n",
        "\n",
        "        for idx, (model, optimizer) in enumerate(zip(model_list, optimizer_list)):\n",
        "            output = model(data)\n",
        "            _, pred = torch.max(output.data, 1)\n",
        "            total[idx] += data.size(0)\n",
        "            correct[idx] += (pred==targets).sum()\n",
        "    \n",
        "    for i in range(len(model_list)):\n",
        "        acc = int(100 * correct[i] / total[i])\n",
        "        plotdata['acc'][i].append(acc)\n",
        "\n",
        "epocs = 20\n",
        "for i in range(epocs):\n",
        "    print(\"Train epoch %d:\" % i)\n",
        "    train()\n",
        "    validate()"
      ],
      "execution_count": 0,
      "outputs": []
    },
    {
      "metadata": {
        "id": "iA4fjjTmf44q",
        "colab_type": "code",
        "colab": {
          "autoexec": {
            "startup": false,
            "wait_interval": 0
          },
          "base_uri": "https://localhost:8080/",
          "height": 571
        },
        "outputId": "70e3eb74-c31f-4b1d-de74-c173bb8f77f9",
        "executionInfo": {
          "status": "ok",
          "timestamp": 1529773523740,
          "user_tz": -540,
          "elapsed": 2969,
          "user": {
            "displayName": "林勇介",
            "photoUrl": "https://lh3.googleusercontent.com/a/default-user=s128",
            "userId": "107587570920079332317"
          }
        }
      },
      "cell_type": "code",
      "source": [
        "colors = ['red', 'green', 'blue']\n",
        "labels = [\"No PreTrain\", \"Flexible PreTrained Parameter\", \"Fix PreTrained Parameter\"]\n",
        "\n",
        "plt.figure()\n",
        "plt.title(\"Loss in Training\")\n",
        "plt.xlabel(\"Iteration\")\n",
        "plt.ylabel(\"Loss\")\n",
        "for i in range(num_models):\n",
        "    y = plotdata['loss'][i]\n",
        "    x = range(1, len(y)+1)\n",
        "    c = colors[i]\n",
        "    l = labels[i]\n",
        "    plt.plot(x, y, color=c, label=l)\n",
        "plt.legend(bbox_to_anchor=(1.05, 1), loc='upper left')\n",
        "plt.show()\n",
        "\n",
        "plt.figure()\n",
        "plt.title(\"Accuracy in Validation\")\n",
        "plt.xlabel(\"Iteration\")\n",
        "plt.ylabel(\"Accuracy [%]\")\n",
        "for i in range(num_models):\n",
        "    y = plotdata['acc'][i]\n",
        "    x = range(1, len(y)+1)\n",
        "    c = colors[i]\n",
        "    l = labels[i]\n",
        "    plt.plot(x, y, color=c, label=l)\n",
        "plt.legend(bbox_to_anchor=(1.05, 1), loc='upper left')\n",
        "plt.show()"
      ],
      "execution_count": 0,
      "outputs": [
        {
          "output_type": "display_data",
          "data": {
            "image/png": "[encoded data removed]",
            "text/plain": [
              "<matplotlib.figure.Figure at 0x7f07eacf8da0>"
            ]
          },
          "metadata": {
            "tags": []
          }
        },
        {
          "output_type": "display_data",
          "data": {
            "image/png": "[encoded data removed]",
            "text/plain": [
              "<matplotlib.figure.Figure at 0x7f07eac96f28>"
            ]
          },
          "metadata": {
            "tags": []
          }
        }
      ]
    }
  ]
}